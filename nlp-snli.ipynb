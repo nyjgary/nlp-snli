{
 "cells": [
  {
   "cell_type": "code",
   "execution_count": 106,
   "metadata": {},
   "outputs": [],
   "source": [
    "# import librarties \n",
    "import numpy as np\n",
    "import pandas as pd \n",
    "import torch\n",
    "import torch.nn as nn\n",
    "import torch.nn.functional as F\n",
    "from torch.utils.data import Dataset\n",
    "from collections import Counter\n",
    "import pickle as pkl\n",
    "import random\n",
    "import pdb\n",
    "import nltk \n",
    "#import spacy\n",
    "import string\n",
    "import time\n",
    "#import gensim\n",
    "from gensim.models import KeyedVectors\n",
    "from tqdm import tqdm_notebook\n",
    "import os\n",
    "from os import listdir \n",
    "import matplotlib.pyplot as plt \n",
    "from torch.optim import Adam\n",
    "from ast import literal_eval\n",
    "from datetime import datetime\n",
    "from sklearn.metrics import confusion_matrix\n",
    "pd.set_option('max_colwidth',100)\n",
    "import matplotlib.style\n",
    "import matplotlib as mpl\n",
    "mpl.style.use('bmh')"
   ]
  },
  {
   "cell_type": "code",
   "execution_count": 3,
   "metadata": {},
   "outputs": [],
   "source": [
    "random.seed(134)\n",
    "PAD_IDX = 0\n",
    "UNK_IDX = 1\n",
    "BATCH_SIZE = 64\n",
    "MAX_VOCAB_SIZE = 50000\n",
    "device = torch.device(\"cuda:0\" if torch.cuda.is_available() else \"cpu\") "
   ]
  },
  {
   "cell_type": "markdown",
   "metadata": {},
   "source": [
    "# Data Processing"
   ]
  },
  {
   "cell_type": "markdown",
   "metadata": {},
   "source": [
    "### Build vocab from pretrained word embeddings"
   ]
  },
  {
   "cell_type": "code",
   "execution_count": 4,
   "metadata": {},
   "outputs": [],
   "source": [
    "# build vocab from fasttext embeddings \n",
    "\n",
    "def build_vocab(word2vec_source, max_vocab_size): \n",
    "    \"\"\" Takes pretrained word2vec source path, limits to max_vocab_size, and returns:  \n",
    "        - id2token: list of tokens, where id2token[i] returns token that corresponds to i-th token \n",
    "        - token2id: dictionary where keys represent tokens and corresponding values represent their indices \n",
    "        - word_emb: dictionary representing word embeddings \n",
    "    \"\"\"\n",
    "    word2vec_model = KeyedVectors.load_word2vec_format(word2vec_source, limit=max_vocab_size)\n",
    "    id2token = word2vec_model.index2word\n",
    "    token2id = dict(zip(id2token, range(2, 2+len(id2token))))\n",
    "    id2token = ['<pad>', '<unk>'] + id2token \n",
    "    word_emb = {token2id[w]: word2vec_model[w] for w in word2vec_model.vocab}\n",
    "\n",
    "    return id2token, token2id, word_emb "
   ]
  },
  {
   "cell_type": "code",
   "execution_count": 5,
   "metadata": {},
   "outputs": [],
   "source": [
    "id2token, token2id, word_emb = build_vocab('fasttext_word2vec/wiki-news-300d-1M.vec', MAX_VOCAB_SIZE)"
   ]
  },
  {
   "cell_type": "code",
   "execution_count": 6,
   "metadata": {},
   "outputs": [],
   "source": [
    "# convert word_emb from dict to matrix \n",
    "pretrained_weights = np.zeros((MAX_VOCAB_SIZE+2, 300))\n",
    "for idx in word_emb: \n",
    "    try: \n",
    "        pretrained_weights[idx] = word_emb[idx]\n",
    "    except KeyError: \n",
    "        pretrained_weights[idx] = np.random.normal(size=(300,))\n",
    "pretrained_weights = torch.from_numpy(pretrained_weights.astype(np.float32)).to(device)"
   ]
  },
  {
   "cell_type": "markdown",
   "metadata": {},
   "source": [
    "### Load data and convert to indices"
   ]
  },
  {
   "cell_type": "code",
   "execution_count": 199,
   "metadata": {},
   "outputs": [
    {
     "name": "stdout",
     "output_type": "stream",
     "text": [
      "100000 1000 20000 5000\n"
     ]
    }
   ],
   "source": [
    "# load data into pandas dataframe \n",
    "snli_train = pd.read_table('hw2_data/snli_train.tsv')\n",
    "snli_val = pd.read_table('hw2_data/snli_val.tsv')\n",
    "mnli_train = pd.read_table('hw2_data/mnli_train.tsv')\n",
    "mnli_val = pd.read_table('hw2_data/mnli_val.tsv')\n",
    "print(len(snli_train), len(snli_val), len(mnli_train), len(mnli_val))"
   ]
  },
  {
   "cell_type": "code",
   "execution_count": 200,
   "metadata": {},
   "outputs": [
    {
     "data": {
      "text/html": [
       "<div>\n",
       "<style scoped>\n",
       "    .dataframe tbody tr th:only-of-type {\n",
       "        vertical-align: middle;\n",
       "    }\n",
       "\n",
       "    .dataframe tbody tr th {\n",
       "        vertical-align: top;\n",
       "    }\n",
       "\n",
       "    .dataframe thead th {\n",
       "        text-align: right;\n",
       "    }\n",
       "</style>\n",
       "<table border=\"1\" class=\"dataframe\">\n",
       "  <thead>\n",
       "    <tr style=\"text-align: right;\">\n",
       "      <th></th>\n",
       "      <th>sentence1</th>\n",
       "      <th>sentence2</th>\n",
       "      <th>label</th>\n",
       "    </tr>\n",
       "  </thead>\n",
       "  <tbody>\n",
       "    <tr>\n",
       "      <th>0</th>\n",
       "      <td>A young girl in a pink shirt sitting on a dock viewing a body of water .</td>\n",
       "      <td>A young girl watching the sunset over the water .</td>\n",
       "      <td>neutral</td>\n",
       "    </tr>\n",
       "    <tr>\n",
       "      <th>1</th>\n",
       "      <td>A woman is smiling while the man next to her is focused on a blue object with a pattern on it .</td>\n",
       "      <td>Two people are next to each other .</td>\n",
       "      <td>entailment</td>\n",
       "    </tr>\n",
       "    <tr>\n",
       "      <th>2</th>\n",
       "      <td>Across the river , you can see a large building .</td>\n",
       "      <td>The large building is full of apartments and tenants</td>\n",
       "      <td>neutral</td>\n",
       "    </tr>\n",
       "    <tr>\n",
       "      <th>3</th>\n",
       "      <td>a man in white shorts and a black shirt is paragliding on the ocean</td>\n",
       "      <td>A man is riding a jetski on the ocean .</td>\n",
       "      <td>contradiction</td>\n",
       "    </tr>\n",
       "    <tr>\n",
       "      <th>4</th>\n",
       "      <td>Four black dogs run together on bright green grass .</td>\n",
       "      <td>Four dogs are preparing to be launched into space .</td>\n",
       "      <td>contradiction</td>\n",
       "    </tr>\n",
       "  </tbody>\n",
       "</table>\n",
       "</div>"
      ],
      "text/plain": [
       "                                                                                         sentence1  \\\n",
       "0                         A young girl in a pink shirt sitting on a dock viewing a body of water .   \n",
       "1  A woman is smiling while the man next to her is focused on a blue object with a pattern on it .   \n",
       "2                                                Across the river , you can see a large building .   \n",
       "3                              a man in white shorts and a black shirt is paragliding on the ocean   \n",
       "4                                             Four black dogs run together on bright green grass .   \n",
       "\n",
       "                                              sentence2          label  \n",
       "0     A young girl watching the sunset over the water .        neutral  \n",
       "1                   Two people are next to each other .     entailment  \n",
       "2  The large building is full of apartments and tenants        neutral  \n",
       "3               A man is riding a jetski on the ocean .  contradiction  \n",
       "4   Four dogs are preparing to be launched into space .  contradiction  "
      ]
     },
     "execution_count": 200,
     "metadata": {},
     "output_type": "execute_result"
    }
   ],
   "source": [
    "snli_train.head()"
   ]
  },
  {
   "cell_type": "code",
   "execution_count": 201,
   "metadata": {},
   "outputs": [],
   "source": [
    "# helper methods to convert pandas df to lists of word indices and labels \n",
    "\n",
    "label_dict = {'contradiction': 0, 'neutral': 1, 'entailment': 2}\n",
    "\n",
    "def token_to_index_datum(datum_tokens, token2id): \n",
    "    \"\"\" Converts a list of tokens and converts it to a list of token indices for one datum \"\"\" \n",
    "    index_list = [token2id[token] if token in token2id else UNK_IDX for token in datum_tokens]\n",
    "    return index_list \n",
    "\n",
    "def df_to_list(data_df, token2id): \n",
    "    \"\"\" Takes train/val data as pandas df and returns: \n",
    "        - list of lists of word indices representing first sentence \n",
    "        - list of lists of word indices representing second sentence \n",
    "        - list of ground truth labels indicating entailment/contradiction/neutrality of two sentences \n",
    "    \"\"\"\n",
    "    sent1 = [token_to_index_datum(sent.split(), token2id) for sent in data_df['sentence1'].tolist()] \n",
    "    sent2 = [token_to_index_datum(sent.split(), token2id) for sent in data_df['sentence2'].tolist()] \n",
    "    labels = [label_dict[label] for label in data_df['label'].tolist()] \n",
    "    return sent1, sent2, labels"
   ]
  },
  {
   "cell_type": "code",
   "execution_count": 202,
   "metadata": {},
   "outputs": [],
   "source": [
    "# convert data to indices \n",
    "snli_train_sent1, snli_train_sent2, snli_train_labels = df_to_list(snli_train, token2id)\n",
    "snli_val_sent1, snli_val_sent2, snli_val_labels = df_to_list(snli_val, token2id)\n",
    "mnli_train_sent1, mnli_train_sent2, mnli_train_labels = df_to_list(mnli_train, token2id)\n",
    "mnli_val_sent1, mnli_val_sent2, mnli_val_labels = df_to_list(mnli_val, token2id)"
   ]
  },
  {
   "cell_type": "code",
   "execution_count": 203,
   "metadata": {},
   "outputs": [
    {
     "data": {
      "text/plain": [
       "Text(0,0.5,'Label')"
      ]
     },
     "execution_count": 203,
     "metadata": {},
     "output_type": "execute_result"
    },
    {
     "data": {
      "image/png": "[encoded data removed]",
      "text/plain": [
       "<Figure size 480x240 with 1 Axes>"
      ]
     },
     "metadata": {},
     "output_type": "display_data"
    }
   ],
   "source": [
    "# check distribution of labels \n",
    "plt.figure(figsize=(6, 3))\n",
    "snli_train['label'].value_counts().plot(kind='barh')\n",
    "plt.xlabel('Frequency')\n",
    "plt.ylabel('Label')"
   ]
  },
  {
   "cell_type": "code",
   "execution_count": 204,
   "metadata": {},
   "outputs": [
    {
     "data": {
      "text/plain": [
       "<matplotlib.legend.Legend at 0x1a3ba980f0>"
      ]
     },
     "execution_count": 204,
     "metadata": {},
     "output_type": "execute_result"
    },
    {
     "data": {
      "image/png": "[encoded data removed]",
      "text/plain": [
       "<Figure size 480x320 with 1 Axes>"
      ]
     },
     "metadata": {},
     "output_type": "display_data"
    }
   ],
   "source": [
    "# check distribution of sentence lengths \n",
    "plt.figure(figsize=(6, 4))\n",
    "snli_train['sentence1'].apply(lambda x: x.split()).apply(len).hist(bins=50, label='Premise (Sentence 1)')\n",
    "snli_train['sentence2'].apply(lambda x: x.split()).apply(len).hist(bins=50, label='Hypothesis (Sentence 2)')\n",
    "plt.xlabel('Sentence Length')\n",
    "plt.ylabel('Frequency')\n",
    "plt.legend()"
   ]
  },
  {
   "cell_type": "code",
   "execution_count": 205,
   "metadata": {},
   "outputs": [],
   "source": [
    "# based on results above, we set our max_sentence_length to 40 which covers all of sentence2 and most of sentence1 \n",
    "MAX_SENTENCE_LENGTH = 40"
   ]
  },
  {
   "cell_type": "markdown",
   "metadata": {},
   "source": [
    "### Build PyTorch Dataloader "
   ]
  },
  {
   "cell_type": "code",
   "execution_count": 206,
   "metadata": {},
   "outputs": [],
   "source": [
    "# helper functions to create dataloader \n",
    "\n",
    "class SNLI_Dataset(Dataset): \n",
    "    \"\"\" \n",
    "    Class that represents a train/validation/test dataset that's readable for PyTorch\n",
    "    Note that this class inherits torch.utils.data.Dataset    \n",
    "    \"\"\"\n",
    "    \n",
    "    def __init__(self, sent1_list, sent2_list, label_list): \n",
    "        \"\"\" \n",
    "        Initialize dataset by passing in the sent and label lists, along with max_sent_length \n",
    "        \"\"\"\n",
    "        self.sent1_list = sent1_list\n",
    "        self.sent2_list = sent2_list \n",
    "        self.label_list = label_list\n",
    "        assert (len(self.sent1_list) == len(self.sent2_list) == len(self.label_list))\n",
    "        \n",
    "    def __len__(self): \n",
    "        return len(self.label_list)\n",
    "    \n",
    "    def __getitem__(self, key): \n",
    "        \"\"\"\n",
    "        Triggered when dataset[i] is called, outputs a list of tokens, lengths of lists, and label of the data point\n",
    "        \"\"\"\n",
    "        sent1_idx = self.sent1_list[key][:MAX_SENTENCE_LENGTH]\n",
    "        sent2_idx = self.sent2_list[key][:MAX_SENTENCE_LENGTH]    \n",
    "        sent1_len = len(sent1_idx)\n",
    "        sent2_len = len(sent2_idx)\n",
    "        label = self.label_list[key]\n",
    "        return [sent1_idx, sent2_idx, sent1_len, sent2_len, label]\n",
    "    \n",
    "def collate_func(batch): \n",
    "    \"\"\"Customized function for DataLoader that dynamically pads the batch \n",
    "       so that all data have the same length\"\"\" \n",
    "    \n",
    "    sents1 = [] \n",
    "    sents2 = [] \n",
    "    sent1_lens = [] \n",
    "    sent2_lens = [] \n",
    "    labels = [] \n",
    "\n",
    "    for datum in batch:\n",
    "        sent1_lens.append(datum[2])\n",
    "        sent2_lens.append(datum[3])\n",
    "        labels.append(datum[4])\n",
    "        \n",
    "        # pad data before appending \n",
    "        padded_vec1 = np.pad(array=np.array(datum[0]), \n",
    "                             pad_width = ((0, MAX_SENTENCE_LENGTH - datum[2])), \n",
    "                             mode = 'constant', constant_values = 0)\n",
    "        padded_vec2 = np.pad(array=np.array(datum[1]), \n",
    "                             pad_width = ((0, MAX_SENTENCE_LENGTH - datum[3])), \n",
    "                             mode = 'constant', constant_values = 0)\n",
    "        sents1.append(padded_vec1)\n",
    "        sents2.append(padded_vec2)\n",
    "        \n",
    "    return [torch.from_numpy(np.array(sents1)), torch.from_numpy(np.array(sents2)), \n",
    "            torch.LongTensor(sent1_lens), torch.LongTensor(sent2_lens), torch.LongTensor(labels)]\n",
    "\n",
    "def create_data_loader(sent1_list, sent2_list, label_list): \n",
    "    \"\"\" Takes index lists of sentence1, setence2, and labels for a given dataset and returns a data loader \"\"\"\n",
    "    data_set = SNLI_Dataset(sent1_list, sent2_list, label_list)\n",
    "    data_loader = torch.utils.data.DataLoader(dataset=data_set, batch_size=BATCH_SIZE, \n",
    "                                              collate_fn=collate_func, shuffle=False)\n",
    "    return data_loader "
   ]
  },
  {
   "cell_type": "code",
   "execution_count": 216,
   "metadata": {},
   "outputs": [],
   "source": [
    "# create data loaders \n",
    "snli_train_loader = create_data_loader(snli_train_sent1, snli_train_sent2, snli_train_labels)\n",
    "snli_val_loader = create_data_loader(snli_val_sent1, snli_val_sent2, snli_val_labels)\n",
    "# mnli_train_loader = create_data_loader(mnli_train_sent1, mnli_train_sent2, mnli_train_labels)\n",
    "# mnli_val_loader = create_data_loader(mnli_val_sent1, mnli_val_sent2, mnli_val_labels)"
   ]
  },
  {
   "cell_type": "code",
   "execution_count": 208,
   "metadata": {},
   "outputs": [
    {
     "name": "stdout",
     "output_type": "stream",
     "text": [
      "0\n",
      "tensor([[  106,   802,  1830,  ...,     0,     0,     0],\n",
      "        [  106,   994,    15,  ...,     0,     0,     0],\n",
      "        [17790,     3,  1938,  ...,     0,     0,     0],\n",
      "        ...,\n",
      "        [ 3799,  5700,  5367,  ...,     0,     0,     0],\n",
      "        [ 2129,    34, 14364,  ...,     0,     0,     0],\n",
      "        [  106,  5895,   194,  ...,     0,     0,     0]])\n",
      "tensor([[ 106,  802, 1830,  ...,    0,    0,    0],\n",
      "        [1442,   67,   34,  ...,    0,    0,    0],\n",
      "        [  22,  542,  402,  ...,    0,    0,    0],\n",
      "        ...,\n",
      "        [  22, 5700,   34,  ...,    0,    0,    0],\n",
      "        [ 106,  347, 2784,  ...,    0,    0,    0],\n",
      "        [ 106,  347, 5822,  ...,    0,    0,    0]])\n",
      "tensor([17, 22, 11, 14, 10, 13, 10,  7, 18, 32, 13, 13, 30, 13, 17, 10, 26, 17,\n",
      "         8, 13,  8, 13,  8, 25,  9, 15, 12,  7, 21, 10,  9, 10, 10, 10,  9, 24,\n",
      "        11, 24, 16,  8,  8,  9, 15, 19, 15, 12, 10, 34, 12, 10, 22, 13,  7, 12,\n",
      "        19, 16, 13,  9, 13, 20, 11, 19, 31, 30])\n",
      "tensor([10,  8,  9, 10, 10,  5,  9, 10,  4,  5,  6,  9, 11, 10,  8, 11,  8,  9,\n",
      "         9,  8,  8,  4,  8, 18,  5,  4,  7,  7,  7,  8, 10,  8,  5,  6,  8, 14,\n",
      "        12,  8,  5,  7,  5,  7,  9,  9,  7,  6, 14,  6,  4,  6,  5,  5,  9,  7,\n",
      "        10,  8,  7,  7,  9, 10,  8,  7, 10, 14])\n",
      "tensor([1, 2, 1, 0, 0, 2, 0, 1, 2, 2, 1, 0, 0, 2, 2, 1, 1, 1, 0, 2, 0, 1, 1, 1,\n",
      "        1, 2, 1, 2, 2, 1, 1, 0, 2, 0, 2, 0, 1, 0, 1, 0, 2, 1, 1, 0, 2, 0, 1, 0,\n",
      "        2, 2, 1, 2, 2, 0, 2, 1, 0, 2, 2, 2, 2, 1, 2, 2])\n"
     ]
    }
   ],
   "source": [
    "for i, (sent1_idx, sent2_idx, sent1_len, sent2_len, label) in enumerate(snli_train_loader):\n",
    "    print(i)\n",
    "    print(sent1_idx)\n",
    "    print(sent2_idx)\n",
    "    print(sent1_len)\n",
    "    print(sent2_len)\n",
    "    print(label)\n",
    "    break "
   ]
  },
  {
   "cell_type": "markdown",
   "metadata": {},
   "source": [
    "# Model Architecture"
   ]
  },
  {
   "cell_type": "markdown",
   "metadata": {},
   "source": [
    "### RNN (Single-Layer GRU)"
   ]
  },
  {
   "cell_type": "code",
   "execution_count": 61,
   "metadata": {},
   "outputs": [],
   "source": [
    "# Bi-Directional GRU - with packing of padded seq \n",
    "\n",
    "class rnn_model(nn.Module):\n",
    "    def __init__(self, emb_size, hidden_size, num_layers, fc_out_size, num_classes, \n",
    "                 pretrained_weights, bidirectional=True):\n",
    "        # RNN Accepts the following hyperparams:\n",
    "        # emb_size: Embedding Size\n",
    "        # hidden_size: Hidden Size of layer in RNN\n",
    "        # num_layers: number of layers in RNN\n",
    "        # num_classes: number of output classes\n",
    "        # vocab_size: vocabulary size\n",
    "        super().__init__() \n",
    "        self.num_layers, self.hidden_size, self.bidirectional = num_layers, hidden_size, bidirectional\n",
    "        self.embedding1 = nn.Embedding.from_pretrained(pretrained_weights, freeze=True)\n",
    "        self.embedding2 = nn.Embedding.from_pretrained(pretrained_weights, freeze=True)\n",
    "        self.rnn1 = nn.GRU(emb_size, hidden_size, num_layers, bidirectional=bidirectional, batch_first=True)\n",
    "        self.rnn2 = nn.GRU(emb_size, hidden_size, num_layers, bidirectional=bidirectional, batch_first=True)\n",
    "        self.fc1 = nn.Linear(2*2*hidden_size, fc_out_size)\n",
    "        self.fc2 = nn.Linear(fc_out_size, num_classes)\n",
    "\n",
    "    def init_hidden(self, batch_size):\n",
    "        # Function initializes the activation of recurrent neural net at timestep 0\n",
    "        # Needs to be in format (num_layers, batch_size, hidden_size)\n",
    "        if self.bidirectional: \n",
    "            hidden = torch.randn(self.num_layers * 2, batch_size, self.hidden_size)\n",
    "        else: \n",
    "            hidden = torch.randn(self.num_layers, batch_size, self.hidden_size)\n",
    "\n",
    "        return hidden\n",
    "\n",
    "    def forward(self, x1, x2, x1_lengths, x2_lengths):\n",
    "        # reset hidden state\n",
    "\n",
    "        batch_size = x1.size()[0]\n",
    "\n",
    "        # run sentence 1 \n",
    "        _, idx_sort1 = torch.sort(x1_lengths, dim=0, descending=True)\n",
    "        _, idx_unsort1 = torch.sort(idx_sort1, dim=0)\n",
    "        x1, x1_lengths = x1.index_select(0, idx_sort1), x1_lengths.index_select(0, idx_sort1)\n",
    "        embed1 = self.embedding1(x1)\n",
    "        embed1 = torch.nn.utils.rnn.pack_padded_sequence(embed1, x1_lengths, batch_first=True)\n",
    "        self.hidden1 = self.init_hidden(batch_size).to(device)      \n",
    "        rnn1_out, self.hidden1 = self.rnn1(embed1, self.hidden1)\n",
    "        rnn1_out, _ = torch.nn.utils.rnn.pad_packed_sequence(rnn1_out, batch_first=True)\n",
    "#        print(rnn1_out.size(), self.hidden1.size())\n",
    "        rnn1_out_final = torch.cat([rnn1_out[:, -1, :self.hidden_size], rnn1_out[:, 0, self.hidden_size:]], dim=1) \n",
    "        rnn1_out_final = rnn1_out_final.index_select(0, idx_unsort1)\n",
    "        \n",
    "        # run sentence 2 \n",
    "        _, idx_sort2 = torch.sort(x2_lengths, dim=0, descending=True)\n",
    "        _, idx_unsort2 = torch.sort(idx_sort2, dim=0)\n",
    "        x2, x2_lengths = x2.index_select(0, idx_sort2), x2_lengths.index_select(0, idx_sort2)\n",
    "        embed2 = self.embedding2(x2)\n",
    "        embed2 = torch.nn.utils.rnn.pack_padded_sequence(embed2, x2_lengths, batch_first=True)\n",
    "        self.hidden2 = self.init_hidden(batch_size).to(device)\n",
    "        rnn2_out, self.hidden2 = self.rnn2(embed2, self.hidden2)\n",
    "        rnn2_out, _ = torch.nn.utils.rnn.pad_packed_sequence(rnn2_out, batch_first=True)\n",
    "        rnn2_out_final = torch.cat([rnn2_out[:, -1, :self.hidden_size], rnn2_out[:, 0, self.hidden_size:]], dim=1) \n",
    "        rnn2_out_final = rnn2_out_final.index_select(0, idx_unsort2)\n",
    "\n",
    "        # concat outputs from both RNNs and run them through FC layers \n",
    "        combined = torch.cat([rnn1_out_final, rnn2_out_final], dim=1)\n",
    "        output = F.relu(self.fc1(combined))\n",
    "        logits = self.fc2(output) \n",
    "\n",
    "        return logits "
   ]
  },
  {
   "cell_type": "markdown",
   "metadata": {},
   "source": [
    "### CNN"
   ]
  },
  {
   "cell_type": "code",
   "execution_count": 62,
   "metadata": {},
   "outputs": [],
   "source": [
    "# 2-layer 1D CNN with ReLU activations \n",
    "\n",
    "class CNN(nn.Module):\n",
    "    def __init__(self, emb_size, hidden_size, num_layers, fc_out_size, num_classes, pretrained_weights):\n",
    "\n",
    "        super(CNN, self).__init__()\n",
    "\n",
    "        self.num_layers, self.hidden_size = num_layers, hidden_size\n",
    "        \n",
    "        self.embedding1 = nn.Embedding.from_pretrained(pretrained_weights, freeze=True)\n",
    "        self.conv11 = nn.Conv1d(emb_size, hidden_size, kernel_size=3, padding=1)\n",
    "        self.conv12 = nn.Conv1d(hidden_size, hidden_size, kernel_size=3, padding=1)\n",
    "        \n",
    "        self.embedding2 = nn.Embedding.from_pretrained(pretrained_weights, freeze=True)\n",
    "        self.conv21 = nn.Conv1d(emb_size, hidden_size, kernel_size=3, padding=1)\n",
    "        self.conv22 = nn.Conv1d(hidden_size, hidden_size, kernel_size=3, padding=1)    \n",
    "        \n",
    "        self.fc1 = nn.Linear(2*hidden_size, fc_out_size)\n",
    "        self.fc2 = nn.Linear(fc_out_size, num_classes)\n",
    "\n",
    "    def forward(self, x1, x2, x1_lengths, x2_lengths):\n",
    "        batch_size, seq_len = x1.size()\n",
    "\n",
    "        embed1 = self.embedding1(x1)\n",
    "        hidden1 = self.conv11(embed1.transpose(1,2)).transpose(1,2)\n",
    "#        hidden1 = F.leaky_relu(hidden1.contiguous().view(-1, hidden1.size(-1))).view(batch_size, seq_len, hidden1.size(-1))\n",
    "        hidden1 = self.conv12(hidden1.transpose(1,2)).transpose(1,2)\n",
    "        hidden1 = F.leaky_relu(hidden1.contiguous().view(-1, hidden1.size(-1))).view(batch_size, seq_len, hidden1.size(-1))\n",
    "        #hidden1 = torch.sum(hidden1, dim=1)\n",
    "        hidden1 = torch.max(hidden1, dim=1)[0]\n",
    "\n",
    "        embed2 = self.embedding2(x2)\n",
    "        hidden2 = self.conv21(embed2.transpose(1,2)).transpose(1,2)\n",
    "#        hidden2 = F.leaky_relu(hidden2.contiguous().view(-1, hidden2.size(-1))).view(batch_size, seq_len, hidden2.size(-1))\n",
    "        hidden2 = self.conv22(hidden2.transpose(1,2)).transpose(1,2)\n",
    "        hidden2 = F.leaky_relu(hidden2.contiguous().view(-1, hidden2.size(-1))).view(batch_size, seq_len, hidden2.size(-1))\n",
    "#        hidden2 = torch.sum(hidden2, dim=1)\n",
    "        hidden2 = torch.max(hidden2, dim=1)[0]\n",
    "        \n",
    "        # concat outputs from both RNNs and run them through FC layers \n",
    "        combined = torch.cat([hidden1, hidden2], dim=1)\n",
    "        output = F.relu(self.fc1(combined))\n",
    "        logits = self.fc2(output) \n",
    "        \n",
    "        return logits"
   ]
  },
  {
   "cell_type": "markdown",
   "metadata": {},
   "source": [
    "# Model Training "
   ]
  },
  {
   "cell_type": "code",
   "execution_count": 191,
   "metadata": {},
   "outputs": [],
   "source": [
    "# helper functions to train and test model - old \n",
    "\n",
    "# def test_model(loader, model): \n",
    "#     \"\"\" \n",
    "#     Helper function that tests the model's performance on a given dataset \n",
    "#     @param: loader = data loader for the dataset to test against \n",
    "#     \"\"\"\n",
    "#     correct = 0 \n",
    "#     total = 0 \n",
    "#     model.eval() \n",
    "#     all_predictions = [] \n",
    "#     all_labels = [] \n",
    "    \n",
    "#     for sent1s, sent2s, sent1_lens, sent2_lens, labels in loader: \n",
    "#         sent1s, sent2s, sent1_lens, sent2_lens, labels = sent1s.to(device), sent2s.to(device), sent1_lens.to(device), sent2_lens.to(device), labels.to(device)\n",
    "#         outputs = F.softmax(model(sent1s, sent2s, sent1_lens, sent2_lens), dim=1)\n",
    "#         predictions = outputs.max(1, keepdim=True)[1]    \n",
    "#         total += labels.size(0)\n",
    "#         correct += predictions.eq(labels.view_as(predictions)).sum().item()\n",
    "#         all_predictions += list(predictions.flatten()) \n",
    "#         all_labels += list(labels.flatten())\n",
    "        \n",
    "#     return (100 * correct / total), all_predictions, all_labels \n",
    "\n",
    "\n",
    "# def train_and_eval(model, train_loader, val_loader, num_epochs, learning_rate, print_intermediate=True, \n",
    "#                    save_checkpoint=False, model_name='default'):  \n",
    "#     \"\"\"\n",
    "#     Trains model on data from train_loader and evaluates on data from val_loader for num_epochs \n",
    "#     Returns results as a dictionary comprising epoch, train accuracy, and validation accuracy \n",
    "#     \"\"\"\n",
    "#     # train and validate \n",
    "#     criterion = torch.nn.CrossEntropyLoss()\n",
    "#     optimizer = torch.optim.Adam(model.parameters(), lr=learning_rate)\n",
    "    \n",
    "#     results = []\n",
    "#     for epoch in range(num_epochs):\n",
    "#         for i, (sent1s, sent2s, sent1_lens, sent2_lens, labels) in enumerate(train_loader):\n",
    "#             model.to(device)\n",
    "#             model.train()\n",
    "#             optimizer.zero_grad()\n",
    "#             sent1s, sent2s, sent1_lens, sent2_lens, labels = sent1s.to(device), sent2s.to(device), sent1_lens.to(device), sent2_lens.to(device), labels.to(device)\n",
    "#             outputs = model(sent1s, sent2s, sent1_lens, sent2_lens)\n",
    "#             loss = criterion(outputs, labels)\n",
    "#             loss.backward()\n",
    "#             optimizer.step()\n",
    "#             # validate every 100 iterations\n",
    "#             if i % 100 == 0 or ((epoch==num_epochs-1) & (i==len(train_loader)-1)):\n",
    "#                 result = {} \n",
    "#                 result['epoch'] = epoch + i / len(train_loader)\n",
    "#                 result['train_acc'], _, _ = test_model(train_loader, model)\n",
    "#                 result['val_acc'], _, _ = test_model(val_loader, model)       \n",
    "#                 results.append(result)\n",
    "\n",
    "#                 if save_checkpoint: \n",
    "#                     checkpoint_fp = 'model_checkpoints/{}.pth.tar'.format(model_name)\n",
    "#                     torch.save(model.state_dict(), checkpoint_fp)\n",
    "                \n",
    "#                 if print_intermediate: \n",
    "#                     print('Epoch: {:.2f}, Train Accuracy: {:.2f}%, Validation Accuracy: {:.2f}%'.format(\n",
    "#                         result['epoch'], result['train_acc'], result['val_acc']))\n",
    "#     return results "
   ]
  },
  {
   "cell_type": "code",
   "execution_count": 192,
   "metadata": {},
   "outputs": [],
   "source": [
    "# helper functions to train and test model - save model if best  \n",
    "\n",
    "def test_model(loader, model): \n",
    "    \"\"\" \n",
    "    Helper function that tests the model's performance on a given dataset \n",
    "    @param: loader = data loader for the dataset to test against \n",
    "    \"\"\"\n",
    "    correct = 0 \n",
    "    total = 0 \n",
    "    model.eval() \n",
    "    all_predictions = [] \n",
    "    all_labels = [] \n",
    "    \n",
    "    for sent1s, sent2s, sent1_lens, sent2_lens, labels in loader: \n",
    "        sent1s, sent2s, sent1_lens, sent2_lens, labels = sent1s.to(device), sent2s.to(device), sent1_lens.to(device), sent2_lens.to(device), labels.to(device)\n",
    "        outputs = F.softmax(model(sent1s, sent2s, sent1_lens, sent2_lens), dim=1)\n",
    "        predictions = outputs.max(1, keepdim=True)[1]    \n",
    "        total += labels.size(0)\n",
    "        correct += predictions.eq(labels.view_as(predictions)).sum().item()\n",
    "        all_predictions += list(predictions.flatten()) \n",
    "        all_labels += list(labels.flatten())\n",
    "        \n",
    "    return (100 * correct / total), all_predictions, all_labels \n",
    "\n",
    "\n",
    "def train_and_eval(model, train_loader, val_loader, num_epochs, learning_rate, print_intermediate=True, \n",
    "                   save_checkpoint=False, model_name='default'):  \n",
    "    \"\"\"\n",
    "    Trains model on data from train_loader and evaluates on data from val_loader for num_epochs \n",
    "    Returns results as a dictionary comprising epoch, train accuracy, and validation accuracy \n",
    "    \"\"\"\n",
    "    # train and validate \n",
    "    criterion = torch.nn.CrossEntropyLoss()\n",
    "    optimizer = torch.optim.Adam(model.parameters(), lr=learning_rate)\n",
    "    \n",
    "    results = []\n",
    "    for epoch in range(num_epochs):\n",
    "        for i, (sent1s, sent2s, sent1_lens, sent2_lens, labels) in enumerate(train_loader):\n",
    "            model.to(device)\n",
    "            model.train()\n",
    "            optimizer.zero_grad()\n",
    "            sent1s, sent2s, sent1_lens, sent2_lens, labels = sent1s.to(device), sent2s.to(device), sent1_lens.to(device), sent2_lens.to(device), labels.to(device)\n",
    "            outputs = model(sent1s, sent2s, sent1_lens, sent2_lens)\n",
    "            loss = criterion(outputs, labels)\n",
    "            loss.backward()\n",
    "            optimizer.step()\n",
    "            # validate every 100 iterations\n",
    "            if i % 100 == 0 or ((epoch==num_epochs-1) & (i==len(train_loader)-1)):\n",
    "                result = {} \n",
    "                result['epoch'] = epoch + i / len(train_loader)\n",
    "                result['train_acc'], _, _ = test_model(train_loader, model)\n",
    "                result['val_acc'], _, _ = test_model(val_loader, model)       \n",
    "                results.append(result)\n",
    "\n",
    "                if save_checkpoint: \n",
    "                    if result['val_acc'] == pd.DataFrame.from_dict(results)['val_acc'].max(): \n",
    "                        checkpoint_fp = 'model_checkpoints/{}.pth.tar'.format(model_name)\n",
    "                        torch.save(model.state_dict(), checkpoint_fp)\n",
    "                \n",
    "                if print_intermediate: \n",
    "                    print('Epoch: {:.2f}, Train Accuracy: {:.2f}%, Validation Accuracy: {:.2f}%'.format(\n",
    "                        result['epoch'], result['train_acc'], result['val_acc']))\n",
    "    return results "
   ]
  },
  {
   "cell_type": "code",
   "execution_count": 193,
   "metadata": {},
   "outputs": [],
   "source": [
    "# helper functions to save results to and load results from a pkl logfile \n",
    "\n",
    "RESULTS_LOG = 'experiment_results/experiment_results_log_v4_gcp.pkl'\n",
    "\n",
    "def append_to_log(hyperparams, results, runtime, experiment_name, filename=RESULTS_LOG): \n",
    "    \"\"\" Appends results and details of a single experiment to a log file \"\"\"\n",
    "    \n",
    "    # create directory if doesn't already exist \n",
    "    if not os.path.exists(os.path.dirname(filename)):\n",
    "        os.makedirs(os.path.dirname(filename))\n",
    "        \n",
    "    # store experiment details in a dictionary \n",
    "    new_result = {'experiment_name': experiment_name, 'hyperparams': hyperparams, 'results': results, \n",
    "                  'runtime': runtime, 'dt_created': datetime.now().strftime('%Y-%m-%d %H:%M:%S')}\n",
    "    \n",
    "    # if log already exists, append to log \n",
    "    try: \n",
    "        results_log = pkl.load(open(filename, \"rb\"))\n",
    "        results_log.append(new_result)\n",
    "\n",
    "    # if log doesn't exists, initialize first result as the log \n",
    "    except (OSError, IOError) as e:\n",
    "        results_log = [new_result]\n",
    "    \n",
    "    # save to pickle \n",
    "    pkl.dump(results_log, open(filename, \"wb\"))"
   ]
  },
  {
   "cell_type": "code",
   "execution_count": 194,
   "metadata": {},
   "outputs": [],
   "source": [
    "def load_experiment_log(experiment_name=None, filename=RESULTS_LOG): \n",
    "    \"\"\" Loads experiment log, with option to filter for a specific experiment_name \"\"\"\n",
    "    \n",
    "    results_log = pkl.load(open(filename, \"rb\"))\n",
    "    \n",
    "    if experiment_name is not None: \n",
    "        results_log = [r for r in results_log if r['experiment_name'] == experiment_name]\n",
    "        \n",
    "    return results_log "
   ]
  },
  {
   "cell_type": "code",
   "execution_count": 195,
   "metadata": {},
   "outputs": [],
   "source": [
    "def run_experiment(train_loader, val_loader, model_type, hidden_size, fc_out_size, kernel_size,  \n",
    "                   learning_rate, num_epochs, experiment_name='Not_Specified', \n",
    "                   save_to_log=True, save_checkpoint=False, print_summary=True, print_intermediate=True):  \n",
    "    \n",
    "    \"\"\" Wraps all processing, training and evaluation steps in a function to facilitate hyperparam tuning. \n",
    "        Note that the function takes as input tokenized data rather than raw data since there's significant \n",
    "        lag time in generating tokens.  \n",
    "    \"\"\"\n",
    "    \n",
    "    start_time = time.time() \n",
    "    \n",
    "    # instantiate model and optimizer \n",
    "    if model_type == 'rnn': \n",
    "        model = rnn_model(emb_size=300, hidden_size=hidden_size, num_layers=1, fc_out_size=fc_out_size, \n",
    "                          num_classes=3, pretrained_weights=pretrained_weights)\n",
    "    elif model_type == 'cnn': \n",
    "        model = CNN(emb_size=300, hidden_size=hidden_size, num_layers=2, fc_out_size=fc_out_size, \n",
    "                    num_classes=3, pretrained_weights=pretrained_weights)\n",
    "    else: \n",
    "        raise ValueError(\"Invalid model_type. Must be either 'cnn' or 'rnn'\")\n",
    "        \n",
    "    # train and evaluate \n",
    "    results = train_and_eval(model, train_loader, val_loader, num_epochs, learning_rate, \n",
    "                             print_intermediate=print_intermediate, save_checkpoint=save_checkpoint, \n",
    "                             model_name=experiment_name)\n",
    "    \n",
    "    # store, print, and save results \n",
    "    runtime = time.time() - start_time \n",
    "    hyperparams = {'model_type': model_type, 'hidden_size': hidden_size, 'fc_out_size': fc_out_size, \n",
    "                   'kernel_size': kernel_size, 'learning_rate': learning_rate, 'num_epochs': num_epochs}\n",
    "    if save_to_log: \n",
    "        append_to_log(hyperparams, results, runtime, experiment_name)\n",
    "    if print_summary: \n",
    "        print(\"Experiment completed in {} seconds with {}% validation accuracy.\".format(\n",
    "            int(runtime), pd.DataFrame.from_dict(results)['val_acc'].max()))\n",
    "        \n",
    "    return results, hyperparams, runtime, model, train_loader, val_loader "
   ]
  },
  {
   "cell_type": "code",
   "execution_count": 196,
   "metadata": {},
   "outputs": [],
   "source": [
    "# helper methods to summarize, evaluate, and plot results \n",
    "\n",
    "def summarize_results(results_log): \n",
    "    \"\"\" Summarizes results_log (list) into a dataframe, splitting hyperparameters string into columns, and reducing \n",
    "        the val_acc dict into the best validation accuracy obtained amongst all the epochs logged \"\"\"\n",
    "    results_df = pd.DataFrame.from_dict(results_log)\n",
    "    results_df = pd.concat([results_df, results_df['hyperparams'].apply(pd.Series)], axis=1)\n",
    "    results_df['val_acc'] = results_df['results'].apply(lambda d: pd.DataFrame.from_dict(d)['val_acc'].max())\n",
    "    return results_df.sort_values(by='val_acc', ascending=False) \n",
    "\n",
    "def plot_multiple_learning_curves(results_df, plot_variable, figsize=(8, 5), legend_loc='best'):\n",
    "    \"\"\" Plots learning curves of MULTIPLE experiments, includes only validation accuracy \"\"\"\n",
    "    plt.figure(figsize=figsize)\n",
    "    for index, row in results_df.iterrows():\n",
    "        val_acc_hist = pd.DataFrame.from_dict(row['results']).set_index('epoch')['val_acc'] \n",
    "        plt.plot(val_acc_hist, label=\"{} ({}%)\".format(row[plot_variable], val_acc_hist.max()))\n",
    "    plt.legend(title=plot_variable, loc=legend_loc)    \n",
    "    plt.ylabel('Validation Accuracy')\n",
    "    plt.xlabel('Epoch')\n",
    "\n",
    "def plot_single_learning_curve(results, figsize=(8, 5)): \n",
    "    \"\"\" Plots learning curve of a SINGLE experiment, includes both train and validation accuracy \"\"\"\n",
    "    results_df = pd.DataFrame.from_dict(results)\n",
    "    results_df = results_df.set_index('epoch')\n",
    "    results_df.plot(figsize=figsize)\n",
    "    plt.ylabel('Validation Accuracy')\n",
    "    plt.xlabel('Epoch')"
   ]
  },
  {
   "cell_type": "markdown",
   "metadata": {},
   "source": [
    "### Train RNN "
   ]
  },
  {
   "cell_type": "markdown",
   "metadata": {},
   "source": [
    "#### Tune hidden_size and fc_out_size together "
   ]
  },
  {
   "cell_type": "code",
   "execution_count": 158,
   "metadata": {},
   "outputs": [],
   "source": [
    "# test various combos of hidden size and fc out size \n",
    "\n",
    "hidden_sizes = [10, 25, 50, 100, 200]\n",
    "fc_out_sizes = [100, 200, 300, 500, 750]\n",
    "\n",
    "for hidden_size in hidden_sizes: \n",
    "    for fc_out_size in fc_out_sizes: \n",
    "        print (\"Training with hidden_size = {} and fc_out_size = {} ...\".format(hidden_size, fc_out_size))\n",
    "    \n",
    "        # train and evaluate\n",
    "        results, hyperparams, runtime, _, _, _ = run_experiment(\n",
    "            train_loader=snli_train_loader, val_loader=snli_val_loader,\n",
    "            model_type='rnn', hidden_size=hidden_size, fc_out_size=fc_out_size, kernel_size=None, \n",
    "            learning_rate=0.001, num_epochs=10, experiment_name='RNN_hidden_fc_out_10epoch', \n",
    "            save_to_log=True, save_checkpoint=False, print_summary=True, print_intermediate=True)"
   ]
  },
  {
   "cell_type": "code",
   "execution_count": 163,
   "metadata": {},
   "outputs": [
    {
     "data": {
      "text/html": [
       "<div>\n",
       "<style scoped>\n",
       "    .dataframe tbody tr th:only-of-type {\n",
       "        vertical-align: middle;\n",
       "    }\n",
       "\n",
       "    .dataframe tbody tr th {\n",
       "        vertical-align: top;\n",
       "    }\n",
       "\n",
       "    .dataframe thead th {\n",
       "        text-align: right;\n",
       "    }\n",
       "</style>\n",
       "<table border=\"1\" class=\"dataframe\">\n",
       "  <thead>\n",
       "    <tr style=\"text-align: right;\">\n",
       "      <th></th>\n",
       "      <th>hidden_size</th>\n",
       "      <th>fc_out_size</th>\n",
       "      <th>num_epochs</th>\n",
       "      <th>runtime</th>\n",
       "      <th>val_acc</th>\n",
       "    </tr>\n",
       "  </thead>\n",
       "  <tbody>\n",
       "    <tr>\n",
       "      <th>0</th>\n",
       "      <td>10</td>\n",
       "      <td>100</td>\n",
       "      <td>10</td>\n",
       "      <td>4990.122962</td>\n",
       "      <td>65.6</td>\n",
       "    </tr>\n",
       "    <tr>\n",
       "      <th>1</th>\n",
       "      <td>10</td>\n",
       "      <td>200</td>\n",
       "      <td>10</td>\n",
       "      <td>4986.884784</td>\n",
       "      <td>66.5</td>\n",
       "    </tr>\n",
       "    <tr>\n",
       "      <th>2</th>\n",
       "      <td>10</td>\n",
       "      <td>300</td>\n",
       "      <td>10</td>\n",
       "      <td>4988.352905</td>\n",
       "      <td>65.8</td>\n",
       "    </tr>\n",
       "    <tr>\n",
       "      <th>3</th>\n",
       "      <td>10</td>\n",
       "      <td>500</td>\n",
       "      <td>10</td>\n",
       "      <td>4971.827927</td>\n",
       "      <td>67.1</td>\n",
       "    </tr>\n",
       "    <tr>\n",
       "      <th>18</th>\n",
       "      <td>10</td>\n",
       "      <td>750</td>\n",
       "      <td>10</td>\n",
       "      <td>4868.989161</td>\n",
       "      <td>68.0</td>\n",
       "    </tr>\n",
       "    <tr>\n",
       "      <th>4</th>\n",
       "      <td>25</td>\n",
       "      <td>100</td>\n",
       "      <td>10</td>\n",
       "      <td>5142.905879</td>\n",
       "      <td>69.3</td>\n",
       "    </tr>\n",
       "    <tr>\n",
       "      <th>5</th>\n",
       "      <td>25</td>\n",
       "      <td>200</td>\n",
       "      <td>10</td>\n",
       "      <td>5104.477565</td>\n",
       "      <td>69.2</td>\n",
       "    </tr>\n",
       "    <tr>\n",
       "      <th>6</th>\n",
       "      <td>25</td>\n",
       "      <td>300</td>\n",
       "      <td>10</td>\n",
       "      <td>5092.012776</td>\n",
       "      <td>69.8</td>\n",
       "    </tr>\n",
       "    <tr>\n",
       "      <th>7</th>\n",
       "      <td>25</td>\n",
       "      <td>500</td>\n",
       "      <td>10</td>\n",
       "      <td>5101.603528</td>\n",
       "      <td>68.8</td>\n",
       "    </tr>\n",
       "    <tr>\n",
       "      <th>19</th>\n",
       "      <td>25</td>\n",
       "      <td>750</td>\n",
       "      <td>10</td>\n",
       "      <td>4958.269207</td>\n",
       "      <td>68.8</td>\n",
       "    </tr>\n",
       "    <tr>\n",
       "      <th>8</th>\n",
       "      <td>50</td>\n",
       "      <td>100</td>\n",
       "      <td>10</td>\n",
       "      <td>5236.047208</td>\n",
       "      <td>69.8</td>\n",
       "    </tr>\n",
       "    <tr>\n",
       "      <th>9</th>\n",
       "      <td>50</td>\n",
       "      <td>200</td>\n",
       "      <td>10</td>\n",
       "      <td>5341.094447</td>\n",
       "      <td>69.5</td>\n",
       "    </tr>\n",
       "    <tr>\n",
       "      <th>10</th>\n",
       "      <td>50</td>\n",
       "      <td>300</td>\n",
       "      <td>10</td>\n",
       "      <td>5344.557111</td>\n",
       "      <td>69.9</td>\n",
       "    </tr>\n",
       "    <tr>\n",
       "      <th>11</th>\n",
       "      <td>50</td>\n",
       "      <td>500</td>\n",
       "      <td>10</td>\n",
       "      <td>5342.041855</td>\n",
       "      <td>70.6</td>\n",
       "    </tr>\n",
       "    <tr>\n",
       "      <th>20</th>\n",
       "      <td>50</td>\n",
       "      <td>750</td>\n",
       "      <td>10</td>\n",
       "      <td>5055.700427</td>\n",
       "      <td>70.6</td>\n",
       "    </tr>\n",
       "    <tr>\n",
       "      <th>12</th>\n",
       "      <td>100</td>\n",
       "      <td>100</td>\n",
       "      <td>10</td>\n",
       "      <td>5484.923866</td>\n",
       "      <td>70.1</td>\n",
       "    </tr>\n",
       "    <tr>\n",
       "      <th>13</th>\n",
       "      <td>100</td>\n",
       "      <td>200</td>\n",
       "      <td>10</td>\n",
       "      <td>5496.629664</td>\n",
       "      <td>70.6</td>\n",
       "    </tr>\n",
       "    <tr>\n",
       "      <th>14</th>\n",
       "      <td>100</td>\n",
       "      <td>300</td>\n",
       "      <td>10</td>\n",
       "      <td>5482.309102</td>\n",
       "      <td>71.0</td>\n",
       "    </tr>\n",
       "    <tr>\n",
       "      <th>15</th>\n",
       "      <td>100</td>\n",
       "      <td>500</td>\n",
       "      <td>10</td>\n",
       "      <td>5484.221786</td>\n",
       "      <td>71.6</td>\n",
       "    </tr>\n",
       "    <tr>\n",
       "      <th>21</th>\n",
       "      <td>100</td>\n",
       "      <td>750</td>\n",
       "      <td>10</td>\n",
       "      <td>5331.114238</td>\n",
       "      <td>71.5</td>\n",
       "    </tr>\n",
       "    <tr>\n",
       "      <th>22</th>\n",
       "      <td>200</td>\n",
       "      <td>100</td>\n",
       "      <td>10</td>\n",
       "      <td>5640.676247</td>\n",
       "      <td>70.4</td>\n",
       "    </tr>\n",
       "    <tr>\n",
       "      <th>23</th>\n",
       "      <td>200</td>\n",
       "      <td>200</td>\n",
       "      <td>10</td>\n",
       "      <td>5606.848240</td>\n",
       "      <td>70.1</td>\n",
       "    </tr>\n",
       "    <tr>\n",
       "      <th>24</th>\n",
       "      <td>200</td>\n",
       "      <td>300</td>\n",
       "      <td>10</td>\n",
       "      <td>5557.424120</td>\n",
       "      <td>70.9</td>\n",
       "    </tr>\n",
       "    <tr>\n",
       "      <th>16</th>\n",
       "      <td>200</td>\n",
       "      <td>500</td>\n",
       "      <td>10</td>\n",
       "      <td>5690.287705</td>\n",
       "      <td>70.6</td>\n",
       "    </tr>\n",
       "    <tr>\n",
       "      <th>17</th>\n",
       "      <td>200</td>\n",
       "      <td>750</td>\n",
       "      <td>10</td>\n",
       "      <td>5675.201376</td>\n",
       "      <td>70.3</td>\n",
       "    </tr>\n",
       "  </tbody>\n",
       "</table>\n",
       "</div>"
      ],
      "text/plain": [
       "    hidden_size  fc_out_size  num_epochs      runtime  val_acc\n",
       "0            10          100          10  4990.122962     65.6\n",
       "1            10          200          10  4986.884784     66.5\n",
       "2            10          300          10  4988.352905     65.8\n",
       "3            10          500          10  4971.827927     67.1\n",
       "18           10          750          10  4868.989161     68.0\n",
       "4            25          100          10  5142.905879     69.3\n",
       "5            25          200          10  5104.477565     69.2\n",
       "6            25          300          10  5092.012776     69.8\n",
       "7            25          500          10  5101.603528     68.8\n",
       "19           25          750          10  4958.269207     68.8\n",
       "8            50          100          10  5236.047208     69.8\n",
       "9            50          200          10  5341.094447     69.5\n",
       "10           50          300          10  5344.557111     69.9\n",
       "11           50          500          10  5342.041855     70.6\n",
       "20           50          750          10  5055.700427     70.6\n",
       "12          100          100          10  5484.923866     70.1\n",
       "13          100          200          10  5496.629664     70.6\n",
       "14          100          300          10  5482.309102     71.0\n",
       "15          100          500          10  5484.221786     71.6\n",
       "21          100          750          10  5331.114238     71.5\n",
       "22          200          100          10  5640.676247     70.4\n",
       "23          200          200          10  5606.848240     70.1\n",
       "24          200          300          10  5557.424120     70.9\n",
       "16          200          500          10  5690.287705     70.6\n",
       "17          200          750          10  5675.201376     70.3"
      ]
     },
     "execution_count": 163,
     "metadata": {},
     "output_type": "execute_result"
    }
   ],
   "source": [
    "# all results \n",
    "rnn_hidden_fc_out_size_exps = summarize_results(load_experiment_log(experiment_name='RNN_hidden_fc_out_10epoch', filename=RESULTS_LOG))\n",
    "rnn_hidden_fc_out_size_exps[['hidden_size', 'fc_out_size', 'num_epochs', 'runtime', 'val_acc']].sort_values(['hidden_size', 'fc_out_size'])"
   ]
  },
  {
   "cell_type": "code",
   "execution_count": 165,
   "metadata": {},
   "outputs": [
    {
     "data": {
      "text/plain": [
       "<matplotlib.axes._subplots.AxesSubplot at 0x1a3b917908>"
      ]
     },
     "execution_count": 165,
     "metadata": {},
     "output_type": "execute_result"
    },
    {
     "data": {
      "image/png": "[encoded data removed]",
      "text/plain": [
       "<Figure size 640x480 with 1 Axes>"
      ]
     },
     "metadata": {},
     "output_type": "display_data"
    }
   ],
   "source": [
    "# plot summary results \n",
    "pd.pivot_table(rnn_hidden_fc_out_size_exps, values='val_acc', index='fc_out_size', columns='hidden_size').plot()"
   ]
  },
  {
   "cell_type": "code",
   "execution_count": 166,
   "metadata": {},
   "outputs": [
    {
     "data": {
      "text/html": [
       "<div>\n",
       "<style scoped>\n",
       "    .dataframe tbody tr th:only-of-type {\n",
       "        vertical-align: middle;\n",
       "    }\n",
       "\n",
       "    .dataframe tbody tr th {\n",
       "        vertical-align: top;\n",
       "    }\n",
       "\n",
       "    .dataframe thead th {\n",
       "        text-align: right;\n",
       "    }\n",
       "</style>\n",
       "<table border=\"1\" class=\"dataframe\">\n",
       "  <thead>\n",
       "    <tr style=\"text-align: right;\">\n",
       "      <th></th>\n",
       "      <th>hidden_size</th>\n",
       "      <th>fc_out_size</th>\n",
       "      <th>num_epochs</th>\n",
       "      <th>runtime</th>\n",
       "      <th>val_acc</th>\n",
       "    </tr>\n",
       "  </thead>\n",
       "  <tbody>\n",
       "    <tr>\n",
       "      <th>15</th>\n",
       "      <td>100</td>\n",
       "      <td>500</td>\n",
       "      <td>10</td>\n",
       "      <td>5484.221786</td>\n",
       "      <td>71.6</td>\n",
       "    </tr>\n",
       "  </tbody>\n",
       "</table>\n",
       "</div>"
      ],
      "text/plain": [
       "    hidden_size  fc_out_size  num_epochs      runtime  val_acc\n",
       "15          100          500          10  5484.221786     71.6"
      ]
     },
     "execution_count": 166,
     "metadata": {},
     "output_type": "execute_result"
    }
   ],
   "source": [
    "# best model \n",
    "rnn_hidden_fc_out_size_exps[['hidden_size', 'fc_out_size', 'num_epochs', 'runtime', 'val_acc']].sort_values(\n",
    "    ['val_acc'], ascending=False).head(1)"
   ]
  },
  {
   "cell_type": "code",
   "execution_count": 172,
   "metadata": {},
   "outputs": [
    {
     "data": {
      "image/png": "[encoded data removed]",
      "text/plain": [
       "<Figure size 640x400 with 1 Axes>"
      ]
     },
     "metadata": {},
     "output_type": "display_data"
    }
   ],
   "source": [
    "# ablation with hidden size (set fc_out_size = 500)\n",
    "rnn_hidden_size_ablation = rnn_hidden_fc_out_size_exps[rnn_hidden_fc_out_size_exps['fc_out_size'] == 500]\n",
    "plot_multiple_learning_curves(rnn_hidden_size_ablation, 'hidden_size', legend_loc='lower right')"
   ]
  },
  {
   "cell_type": "code",
   "execution_count": 170,
   "metadata": {},
   "outputs": [
    {
     "data": {
      "image/png": "[encoded data removed]",
      "text/plain": [
       "<Figure size 640x400 with 1 Axes>"
      ]
     },
     "metadata": {},
     "output_type": "display_data"
    }
   ],
   "source": [
    "# ablation with fc_out_size (set hidden_size = 100)\n",
    "rnn_fc_out_size_ablation = rnn_hidden_fc_out_size_exps[rnn_hidden_fc_out_size_exps['hidden_size'] == 100]\n",
    "plot_multiple_learning_curves(rnn_fc_out_size_ablation, 'fc_out_size', legend_loc='lower right')"
   ]
  },
  {
   "cell_type": "code",
   "execution_count": 173,
   "metadata": {},
   "outputs": [],
   "source": [
    "# instantiate model and optimizer \n",
    "#model = rnn_model(emb_size=300, hidden_size=50, num_layers=1, fc_out_size=10, num_classes=3, pretrained_weights=pretrained_weights)\n",
    "\n",
    "# train and evaluate \n",
    "#results = train_and_eval(model, snli_train_loader, snli_val_loader, learning_rate=0.01, num_epochs=2, print_intermediate=True)"
   ]
  },
  {
   "cell_type": "markdown",
   "metadata": {},
   "source": [
    "#### Retrain and Save Best RNN Model"
   ]
  },
  {
   "cell_type": "code",
   "execution_count": 176,
   "metadata": {},
   "outputs": [],
   "source": [
    "# summarize best hyperparameters \n",
    "BEST_RNN_MODEL_NAME = 'RNN_100hidden_500fc_10epoch_001lr_v2' #'RNN_100hidden_500fc_10epoch_001lr_v3'\n",
    "BEST_RNN_HIDDEN_SIZE = 100\n",
    "BEST_RNN_FC_OUT_SIZE = 500"
   ]
  },
  {
   "cell_type": "code",
   "execution_count": 142,
   "metadata": {},
   "outputs": [],
   "source": [
    "# train and save final model \n",
    "results, hyperparams, runtime, _, _, _ = run_experiment(\n",
    "    train_loader=snli_train_loader, val_loader=snli_val_loader,\n",
    "    model_type='rnn', hidden_size=BEST_RNN_HIDDEN_SIZE, fc_out_size=BEST_RNN_FC_OUT_SIZE, kernel_size=None, \n",
    "    learning_rate=0.001, num_epochs=10, experiment_name=BEST_RNN_MODEL_NAME, \n",
    "    save_to_log=True, save_checkpoint=True, print_summary=True, print_intermediate=True)"
   ]
  },
  {
   "cell_type": "code",
   "execution_count": 144,
   "metadata": {},
   "outputs": [
    {
     "data": {
      "image/png": "[encoded data removed]",
      "text/plain": [
       "<Figure size 640x400 with 1 Axes>"
      ]
     },
     "metadata": {},
     "output_type": "display_data"
    }
   ],
   "source": [
    "# plot training and test loss for best model - TODO: RERUN LOSS LOWER THAN EXPECTED \n",
    "best_rnn_results = load_experiment_log(experiment_name=BEST_RNN_MODEL_NAME, filename=RESULTS_LOG)[0]['results']\n",
    "plot_single_learning_curve(best_rnn_results)"
   ]
  },
  {
   "cell_type": "markdown",
   "metadata": {},
   "source": [
    "### Tune CNN "
   ]
  },
  {
   "cell_type": "code",
   "execution_count": 28,
   "metadata": {},
   "outputs": [
    {
     "name": "stdout",
     "output_type": "stream",
     "text": [
      "Epoch: 0.00, Train Accuracy: 32.79%, Validation Accuracy: 32.60%\n",
      "Epoch: 0.06, Train Accuracy: 47.27%, Validation Accuracy: 47.60%\n",
      "Epoch: 0.13, Train Accuracy: 52.05%, Validation Accuracy: 52.20%\n",
      "Epoch: 0.19, Train Accuracy: 53.28%, Validation Accuracy: 53.00%\n",
      "Epoch: 0.26, Train Accuracy: 57.72%, Validation Accuracy: 55.30%\n",
      "Epoch: 0.32, Train Accuracy: 55.33%, Validation Accuracy: 54.70%\n",
      "Epoch: 0.38, Train Accuracy: 59.27%, Validation Accuracy: 58.50%\n",
      "Epoch: 0.45, Train Accuracy: 59.40%, Validation Accuracy: 58.10%\n",
      "Epoch: 0.51, Train Accuracy: 55.92%, Validation Accuracy: 54.10%\n",
      "Epoch: 0.58, Train Accuracy: 59.27%, Validation Accuracy: 56.90%\n",
      "Epoch: 0.64, Train Accuracy: 59.66%, Validation Accuracy: 57.10%\n",
      "Epoch: 0.70, Train Accuracy: 60.79%, Validation Accuracy: 57.70%\n",
      "Epoch: 0.77, Train Accuracy: 61.32%, Validation Accuracy: 59.60%\n",
      "Epoch: 0.83, Train Accuracy: 60.39%, Validation Accuracy: 59.30%\n",
      "Epoch: 0.90, Train Accuracy: 60.43%, Validation Accuracy: 59.80%\n",
      "Epoch: 0.96, Train Accuracy: 61.22%, Validation Accuracy: 59.60%\n",
      "Epoch: 1.00, Train Accuracy: 61.18%, Validation Accuracy: 57.30%\n",
      "Epoch: 1.06, Train Accuracy: 59.37%, Validation Accuracy: 57.50%\n",
      "Epoch: 1.13, Train Accuracy: 61.61%, Validation Accuracy: 60.00%\n",
      "Epoch: 1.19, Train Accuracy: 60.98%, Validation Accuracy: 58.40%\n",
      "Epoch: 1.26, Train Accuracy: 62.32%, Validation Accuracy: 59.80%\n",
      "Epoch: 1.32, Train Accuracy: 61.02%, Validation Accuracy: 60.30%\n",
      "Epoch: 1.38, Train Accuracy: 62.61%, Validation Accuracy: 60.60%\n",
      "Epoch: 1.45, Train Accuracy: 62.28%, Validation Accuracy: 60.20%\n",
      "Epoch: 1.51, Train Accuracy: 59.57%, Validation Accuracy: 57.20%\n",
      "Epoch: 1.58, Train Accuracy: 62.66%, Validation Accuracy: 60.70%\n",
      "Epoch: 1.64, Train Accuracy: 61.68%, Validation Accuracy: 59.50%\n",
      "Epoch: 1.70, Train Accuracy: 62.35%, Validation Accuracy: 59.90%\n",
      "Epoch: 1.77, Train Accuracy: 62.47%, Validation Accuracy: 59.60%\n",
      "Epoch: 1.83, Train Accuracy: 61.65%, Validation Accuracy: 59.90%\n",
      "Epoch: 1.90, Train Accuracy: 62.70%, Validation Accuracy: 60.70%\n",
      "Epoch: 1.96, Train Accuracy: 63.10%, Validation Accuracy: 59.40%\n",
      "Epoch: 2.00, Train Accuracy: 62.66%, Validation Accuracy: 58.80%\n"
     ]
    }
   ],
   "source": [
    "# instantiate model and optimizer - maxpool \n",
    "model = CNN(emb_size=300, hidden_size=50, num_layers=2, fc_out_size=10, num_classes=3, pretrained_weights=pretrained_weights)\n",
    "\n",
    "# train and evaluate \n",
    "results = train_and_eval(model, snli_train_loader, snli_val_loader, learning_rate=0.01, num_epochs=2, print_intermediate=True,\n",
    "                         save_checkpoint=True, model_name='cnn_test')"
   ]
  },
  {
   "cell_type": "code",
   "execution_count": 92,
   "metadata": {},
   "outputs": [
    {
     "name": "stdout",
     "output_type": "stream",
     "text": [
      "Training with kernel_size = 2 ...\n"
     ]
    },
    {
     "ename": "KeyboardInterrupt",
     "evalue": "",
     "output_type": "error",
     "traceback": [
      "\u001b[0;31m---------------------------------------------------------------------------\u001b[0m",
      "\u001b[0;31mKeyboardInterrupt\u001b[0m                         Traceback (most recent call last)",
      "\u001b[0;32m<ipython-input-92-2540bb659b56>\u001b[0m in \u001b[0;36m<module>\u001b[0;34m()\u001b[0m\n\u001b[1;32m      9\u001b[0m         \u001b[0mmodel_type\u001b[0m\u001b[0;34m=\u001b[0m\u001b[0;34m'cnn'\u001b[0m\u001b[0;34m,\u001b[0m \u001b[0mhidden_size\u001b[0m\u001b[0;34m=\u001b[0m\u001b[0;36m100\u001b[0m\u001b[0;34m,\u001b[0m \u001b[0mfc_out_size\u001b[0m\u001b[0;34m=\u001b[0m\u001b[0;36m500\u001b[0m\u001b[0;34m,\u001b[0m \u001b[0mkernel_size\u001b[0m\u001b[0;34m=\u001b[0m\u001b[0mkernel_size\u001b[0m\u001b[0;34m,\u001b[0m\u001b[0;34m\u001b[0m\u001b[0m\n\u001b[1;32m     10\u001b[0m         \u001b[0mlearning_rate\u001b[0m\u001b[0;34m=\u001b[0m\u001b[0;36m0.001\u001b[0m\u001b[0;34m,\u001b[0m \u001b[0mnum_epochs\u001b[0m\u001b[0;34m=\u001b[0m\u001b[0;36m10\u001b[0m\u001b[0;34m,\u001b[0m \u001b[0mexperiment_name\u001b[0m\u001b[0;34m=\u001b[0m\u001b[0;34m'CNN_kernel_size_10epoch'\u001b[0m\u001b[0;34m,\u001b[0m\u001b[0;34m\u001b[0m\u001b[0m\n\u001b[0;32m---> 11\u001b[0;31m         save_to_log=True, save_checkpoint=False, print_summary=True, print_intermediate=True)\n\u001b[0m",
      "\u001b[0;32m<ipython-input-75-f16005ccde26>\u001b[0m in \u001b[0;36mrun_experiment\u001b[0;34m(train_loader, val_loader, model_type, hidden_size, fc_out_size, kernel_size, learning_rate, num_epochs, experiment_name, save_to_log, save_checkpoint, print_summary, print_intermediate)\u001b[0m\n\u001b[1;32m     23\u001b[0m     results = train_and_eval(model, train_loader, val_loader, num_epochs, learning_rate, \n\u001b[1;32m     24\u001b[0m                              \u001b[0mprint_intermediate\u001b[0m\u001b[0;34m=\u001b[0m\u001b[0mprint_intermediate\u001b[0m\u001b[0;34m,\u001b[0m \u001b[0msave_checkpoint\u001b[0m\u001b[0;34m=\u001b[0m\u001b[0msave_checkpoint\u001b[0m\u001b[0;34m,\u001b[0m\u001b[0;34m\u001b[0m\u001b[0m\n\u001b[0;32m---> 25\u001b[0;31m                              model_name=experiment_name)\n\u001b[0m\u001b[1;32m     26\u001b[0m \u001b[0;34m\u001b[0m\u001b[0m\n\u001b[1;32m     27\u001b[0m     \u001b[0;31m# store, print, and save results\u001b[0m\u001b[0;34m\u001b[0m\u001b[0;34m\u001b[0m\u001b[0m\n",
      "\u001b[0;32m<ipython-input-81-3cc053861dca>\u001b[0m in \u001b[0;36mtrain_and_eval\u001b[0;34m(model, train_loader, val_loader, num_epochs, learning_rate, print_intermediate, save_checkpoint, model_name)\u001b[0m\n\u001b[1;32m     49\u001b[0m                 \u001b[0mresult\u001b[0m \u001b[0;34m=\u001b[0m \u001b[0;34m{\u001b[0m\u001b[0;34m}\u001b[0m\u001b[0;34m\u001b[0m\u001b[0m\n\u001b[1;32m     50\u001b[0m                 \u001b[0mresult\u001b[0m\u001b[0;34m[\u001b[0m\u001b[0;34m'epoch'\u001b[0m\u001b[0;34m]\u001b[0m \u001b[0;34m=\u001b[0m \u001b[0mepoch\u001b[0m \u001b[0;34m+\u001b[0m \u001b[0mi\u001b[0m \u001b[0;34m/\u001b[0m \u001b[0mlen\u001b[0m\u001b[0;34m(\u001b[0m\u001b[0mtrain_loader\u001b[0m\u001b[0;34m)\u001b[0m\u001b[0;34m\u001b[0m\u001b[0m\n\u001b[0;32m---> 51\u001b[0;31m                 \u001b[0mresult\u001b[0m\u001b[0;34m[\u001b[0m\u001b[0;34m'train_acc'\u001b[0m\u001b[0;34m]\u001b[0m\u001b[0;34m,\u001b[0m \u001b[0m_\u001b[0m\u001b[0;34m,\u001b[0m \u001b[0m_\u001b[0m \u001b[0;34m=\u001b[0m \u001b[0mtest_model\u001b[0m\u001b[0;34m(\u001b[0m\u001b[0mtrain_loader\u001b[0m\u001b[0;34m,\u001b[0m \u001b[0mmodel\u001b[0m\u001b[0;34m)\u001b[0m\u001b[0;34m\u001b[0m\u001b[0m\n\u001b[0m\u001b[1;32m     52\u001b[0m                 \u001b[0mresult\u001b[0m\u001b[0;34m[\u001b[0m\u001b[0;34m'val_acc'\u001b[0m\u001b[0;34m]\u001b[0m\u001b[0;34m,\u001b[0m \u001b[0m_\u001b[0m\u001b[0;34m,\u001b[0m \u001b[0m_\u001b[0m \u001b[0;34m=\u001b[0m \u001b[0mtest_model\u001b[0m\u001b[0;34m(\u001b[0m\u001b[0mval_loader\u001b[0m\u001b[0;34m,\u001b[0m \u001b[0mmodel\u001b[0m\u001b[0;34m)\u001b[0m\u001b[0;34m\u001b[0m\u001b[0m\n\u001b[1;32m     53\u001b[0m                 \u001b[0mresults\u001b[0m\u001b[0;34m.\u001b[0m\u001b[0mappend\u001b[0m\u001b[0;34m(\u001b[0m\u001b[0mresult\u001b[0m\u001b[0;34m)\u001b[0m\u001b[0;34m\u001b[0m\u001b[0m\n",
      "\u001b[0;32m<ipython-input-81-3cc053861dca>\u001b[0m in \u001b[0;36mtest_model\u001b[0;34m(loader, model)\u001b[0m\n\u001b[1;32m     14\u001b[0m     \u001b[0;32mfor\u001b[0m \u001b[0msent1s\u001b[0m\u001b[0;34m,\u001b[0m \u001b[0msent2s\u001b[0m\u001b[0;34m,\u001b[0m \u001b[0msent1_lens\u001b[0m\u001b[0;34m,\u001b[0m \u001b[0msent2_lens\u001b[0m\u001b[0;34m,\u001b[0m \u001b[0mlabels\u001b[0m \u001b[0;32min\u001b[0m \u001b[0mloader\u001b[0m\u001b[0;34m:\u001b[0m\u001b[0;34m\u001b[0m\u001b[0m\n\u001b[1;32m     15\u001b[0m         \u001b[0msent1s\u001b[0m\u001b[0;34m,\u001b[0m \u001b[0msent2s\u001b[0m\u001b[0;34m,\u001b[0m \u001b[0msent1_lens\u001b[0m\u001b[0;34m,\u001b[0m \u001b[0msent2_lens\u001b[0m\u001b[0;34m,\u001b[0m \u001b[0mlabels\u001b[0m \u001b[0;34m=\u001b[0m \u001b[0msent1s\u001b[0m\u001b[0;34m.\u001b[0m\u001b[0mto\u001b[0m\u001b[0;34m(\u001b[0m\u001b[0mdevice\u001b[0m\u001b[0;34m)\u001b[0m\u001b[0;34m,\u001b[0m \u001b[0msent2s\u001b[0m\u001b[0;34m.\u001b[0m\u001b[0mto\u001b[0m\u001b[0;34m(\u001b[0m\u001b[0mdevice\u001b[0m\u001b[0;34m)\u001b[0m\u001b[0;34m,\u001b[0m \u001b[0msent1_lens\u001b[0m\u001b[0;34m.\u001b[0m\u001b[0mto\u001b[0m\u001b[0;34m(\u001b[0m\u001b[0mdevice\u001b[0m\u001b[0;34m)\u001b[0m\u001b[0;34m,\u001b[0m \u001b[0msent2_lens\u001b[0m\u001b[0;34m.\u001b[0m\u001b[0mto\u001b[0m\u001b[0;34m(\u001b[0m\u001b[0mdevice\u001b[0m\u001b[0;34m)\u001b[0m\u001b[0;34m,\u001b[0m \u001b[0mlabels\u001b[0m\u001b[0;34m.\u001b[0m\u001b[0mto\u001b[0m\u001b[0;34m(\u001b[0m\u001b[0mdevice\u001b[0m\u001b[0;34m)\u001b[0m\u001b[0;34m\u001b[0m\u001b[0m\n\u001b[0;32m---> 16\u001b[0;31m         \u001b[0moutputs\u001b[0m \u001b[0;34m=\u001b[0m \u001b[0mF\u001b[0m\u001b[0;34m.\u001b[0m\u001b[0msoftmax\u001b[0m\u001b[0;34m(\u001b[0m\u001b[0mmodel\u001b[0m\u001b[0;34m(\u001b[0m\u001b[0msent1s\u001b[0m\u001b[0;34m,\u001b[0m \u001b[0msent2s\u001b[0m\u001b[0;34m,\u001b[0m \u001b[0msent1_lens\u001b[0m\u001b[0;34m,\u001b[0m \u001b[0msent2_lens\u001b[0m\u001b[0;34m)\u001b[0m\u001b[0;34m,\u001b[0m \u001b[0mdim\u001b[0m\u001b[0;34m=\u001b[0m\u001b[0;36m1\u001b[0m\u001b[0;34m)\u001b[0m\u001b[0;34m\u001b[0m\u001b[0m\n\u001b[0m\u001b[1;32m     17\u001b[0m         \u001b[0mpredictions\u001b[0m \u001b[0;34m=\u001b[0m \u001b[0moutputs\u001b[0m\u001b[0;34m.\u001b[0m\u001b[0mmax\u001b[0m\u001b[0;34m(\u001b[0m\u001b[0;36m1\u001b[0m\u001b[0;34m,\u001b[0m \u001b[0mkeepdim\u001b[0m\u001b[0;34m=\u001b[0m\u001b[0;32mTrue\u001b[0m\u001b[0;34m)\u001b[0m\u001b[0;34m[\u001b[0m\u001b[0;36m1\u001b[0m\u001b[0;34m]\u001b[0m\u001b[0;34m\u001b[0m\u001b[0m\n\u001b[1;32m     18\u001b[0m         \u001b[0mtotal\u001b[0m \u001b[0;34m+=\u001b[0m \u001b[0mlabels\u001b[0m\u001b[0;34m.\u001b[0m\u001b[0msize\u001b[0m\u001b[0;34m(\u001b[0m\u001b[0;36m0\u001b[0m\u001b[0;34m)\u001b[0m\u001b[0;34m\u001b[0m\u001b[0m\n",
      "\u001b[0;32m~/anaconda/envs/nlpclass/lib/python3.6/site-packages/torch/nn/modules/module.py\u001b[0m in \u001b[0;36m__call__\u001b[0;34m(self, *input, **kwargs)\u001b[0m\n\u001b[1;32m    475\u001b[0m             \u001b[0mresult\u001b[0m \u001b[0;34m=\u001b[0m \u001b[0mself\u001b[0m\u001b[0;34m.\u001b[0m\u001b[0m_slow_forward\u001b[0m\u001b[0;34m(\u001b[0m\u001b[0;34m*\u001b[0m\u001b[0minput\u001b[0m\u001b[0;34m,\u001b[0m \u001b[0;34m**\u001b[0m\u001b[0mkwargs\u001b[0m\u001b[0;34m)\u001b[0m\u001b[0;34m\u001b[0m\u001b[0m\n\u001b[1;32m    476\u001b[0m         \u001b[0;32melse\u001b[0m\u001b[0;34m:\u001b[0m\u001b[0;34m\u001b[0m\u001b[0m\n\u001b[0;32m--> 477\u001b[0;31m             \u001b[0mresult\u001b[0m \u001b[0;34m=\u001b[0m \u001b[0mself\u001b[0m\u001b[0;34m.\u001b[0m\u001b[0mforward\u001b[0m\u001b[0;34m(\u001b[0m\u001b[0;34m*\u001b[0m\u001b[0minput\u001b[0m\u001b[0;34m,\u001b[0m \u001b[0;34m**\u001b[0m\u001b[0mkwargs\u001b[0m\u001b[0;34m)\u001b[0m\u001b[0;34m\u001b[0m\u001b[0m\n\u001b[0m\u001b[1;32m    478\u001b[0m         \u001b[0;32mfor\u001b[0m \u001b[0mhook\u001b[0m \u001b[0;32min\u001b[0m \u001b[0mself\u001b[0m\u001b[0;34m.\u001b[0m\u001b[0m_forward_hooks\u001b[0m\u001b[0;34m.\u001b[0m\u001b[0mvalues\u001b[0m\u001b[0;34m(\u001b[0m\u001b[0;34m)\u001b[0m\u001b[0;34m:\u001b[0m\u001b[0;34m\u001b[0m\u001b[0m\n\u001b[1;32m    479\u001b[0m             \u001b[0mhook_result\u001b[0m \u001b[0;34m=\u001b[0m \u001b[0mhook\u001b[0m\u001b[0;34m(\u001b[0m\u001b[0mself\u001b[0m\u001b[0;34m,\u001b[0m \u001b[0minput\u001b[0m\u001b[0;34m,\u001b[0m \u001b[0mresult\u001b[0m\u001b[0;34m)\u001b[0m\u001b[0;34m\u001b[0m\u001b[0m\n",
      "\u001b[0;32m<ipython-input-62-a9a166e35748>\u001b[0m in \u001b[0;36mforward\u001b[0;34m(self, x1, x2, x1_lengths, x2_lengths)\u001b[0m\n\u001b[1;32m     23\u001b[0m \u001b[0;34m\u001b[0m\u001b[0m\n\u001b[1;32m     24\u001b[0m         \u001b[0membed1\u001b[0m \u001b[0;34m=\u001b[0m \u001b[0mself\u001b[0m\u001b[0;34m.\u001b[0m\u001b[0membedding1\u001b[0m\u001b[0;34m(\u001b[0m\u001b[0mx1\u001b[0m\u001b[0;34m)\u001b[0m\u001b[0;34m\u001b[0m\u001b[0m\n\u001b[0;32m---> 25\u001b[0;31m         \u001b[0mhidden1\u001b[0m \u001b[0;34m=\u001b[0m \u001b[0mself\u001b[0m\u001b[0;34m.\u001b[0m\u001b[0mconv11\u001b[0m\u001b[0;34m(\u001b[0m\u001b[0membed1\u001b[0m\u001b[0;34m.\u001b[0m\u001b[0mtranspose\u001b[0m\u001b[0;34m(\u001b[0m\u001b[0;36m1\u001b[0m\u001b[0;34m,\u001b[0m\u001b[0;36m2\u001b[0m\u001b[0;34m)\u001b[0m\u001b[0;34m)\u001b[0m\u001b[0;34m.\u001b[0m\u001b[0mtranspose\u001b[0m\u001b[0;34m(\u001b[0m\u001b[0;36m1\u001b[0m\u001b[0;34m,\u001b[0m\u001b[0;36m2\u001b[0m\u001b[0;34m)\u001b[0m\u001b[0;34m\u001b[0m\u001b[0m\n\u001b[0m\u001b[1;32m     26\u001b[0m \u001b[0;31m#        hidden1 = F.leaky_relu(hidden1.contiguous().view(-1, hidden1.size(-1))).view(batch_size, seq_len, hidden1.size(-1))\u001b[0m\u001b[0;34m\u001b[0m\u001b[0;34m\u001b[0m\u001b[0m\n\u001b[1;32m     27\u001b[0m         \u001b[0mhidden1\u001b[0m \u001b[0;34m=\u001b[0m \u001b[0mself\u001b[0m\u001b[0;34m.\u001b[0m\u001b[0mconv12\u001b[0m\u001b[0;34m(\u001b[0m\u001b[0mhidden1\u001b[0m\u001b[0;34m.\u001b[0m\u001b[0mtranspose\u001b[0m\u001b[0;34m(\u001b[0m\u001b[0;36m1\u001b[0m\u001b[0;34m,\u001b[0m\u001b[0;36m2\u001b[0m\u001b[0;34m)\u001b[0m\u001b[0;34m)\u001b[0m\u001b[0;34m.\u001b[0m\u001b[0mtranspose\u001b[0m\u001b[0;34m(\u001b[0m\u001b[0;36m1\u001b[0m\u001b[0;34m,\u001b[0m\u001b[0;36m2\u001b[0m\u001b[0;34m)\u001b[0m\u001b[0;34m\u001b[0m\u001b[0m\n",
      "\u001b[0;32m~/anaconda/envs/nlpclass/lib/python3.6/site-packages/torch/nn/modules/module.py\u001b[0m in \u001b[0;36m__call__\u001b[0;34m(self, *input, **kwargs)\u001b[0m\n\u001b[1;32m    475\u001b[0m             \u001b[0mresult\u001b[0m \u001b[0;34m=\u001b[0m \u001b[0mself\u001b[0m\u001b[0;34m.\u001b[0m\u001b[0m_slow_forward\u001b[0m\u001b[0;34m(\u001b[0m\u001b[0;34m*\u001b[0m\u001b[0minput\u001b[0m\u001b[0;34m,\u001b[0m \u001b[0;34m**\u001b[0m\u001b[0mkwargs\u001b[0m\u001b[0;34m)\u001b[0m\u001b[0;34m\u001b[0m\u001b[0m\n\u001b[1;32m    476\u001b[0m         \u001b[0;32melse\u001b[0m\u001b[0;34m:\u001b[0m\u001b[0;34m\u001b[0m\u001b[0m\n\u001b[0;32m--> 477\u001b[0;31m             \u001b[0mresult\u001b[0m \u001b[0;34m=\u001b[0m \u001b[0mself\u001b[0m\u001b[0;34m.\u001b[0m\u001b[0mforward\u001b[0m\u001b[0;34m(\u001b[0m\u001b[0;34m*\u001b[0m\u001b[0minput\u001b[0m\u001b[0;34m,\u001b[0m \u001b[0;34m**\u001b[0m\u001b[0mkwargs\u001b[0m\u001b[0;34m)\u001b[0m\u001b[0;34m\u001b[0m\u001b[0m\n\u001b[0m\u001b[1;32m    478\u001b[0m         \u001b[0;32mfor\u001b[0m \u001b[0mhook\u001b[0m \u001b[0;32min\u001b[0m \u001b[0mself\u001b[0m\u001b[0;34m.\u001b[0m\u001b[0m_forward_hooks\u001b[0m\u001b[0;34m.\u001b[0m\u001b[0mvalues\u001b[0m\u001b[0;34m(\u001b[0m\u001b[0;34m)\u001b[0m\u001b[0;34m:\u001b[0m\u001b[0;34m\u001b[0m\u001b[0m\n\u001b[1;32m    479\u001b[0m             \u001b[0mhook_result\u001b[0m \u001b[0;34m=\u001b[0m \u001b[0mhook\u001b[0m\u001b[0;34m(\u001b[0m\u001b[0mself\u001b[0m\u001b[0;34m,\u001b[0m \u001b[0minput\u001b[0m\u001b[0;34m,\u001b[0m \u001b[0mresult\u001b[0m\u001b[0;34m)\u001b[0m\u001b[0;34m\u001b[0m\u001b[0m\n",
      "\u001b[0;32m~/anaconda/envs/nlpclass/lib/python3.6/site-packages/torch/nn/modules/conv.py\u001b[0m in \u001b[0;36mforward\u001b[0;34m(self, input)\u001b[0m\n\u001b[1;32m    174\u001b[0m     \u001b[0;32mdef\u001b[0m \u001b[0mforward\u001b[0m\u001b[0;34m(\u001b[0m\u001b[0mself\u001b[0m\u001b[0;34m,\u001b[0m \u001b[0minput\u001b[0m\u001b[0;34m)\u001b[0m\u001b[0;34m:\u001b[0m\u001b[0;34m\u001b[0m\u001b[0m\n\u001b[1;32m    175\u001b[0m         return F.conv1d(input, self.weight, self.bias, self.stride,\n\u001b[0;32m--> 176\u001b[0;31m                         self.padding, self.dilation, self.groups)\n\u001b[0m\u001b[1;32m    177\u001b[0m \u001b[0;34m\u001b[0m\u001b[0m\n\u001b[1;32m    178\u001b[0m \u001b[0;34m\u001b[0m\u001b[0m\n",
      "\u001b[0;31mKeyboardInterrupt\u001b[0m: "
     ]
    }
   ],
   "source": [
    "kernel_sizes = [2, 3, 4, 5, 6, 7]\n",
    "\n",
    "for kernel_size in kernel_sizes: \n",
    "    print (\"Training with kernel_size = {} ...\".format(kernel_size))\n",
    "    \n",
    "    # train and evaluate\n",
    "    results, hyperparams, runtime, _, _, _ = run_experiment(\n",
    "        train_loader=snli_train_loader, val_loader=snli_val_loader,\n",
    "        model_type='cnn', hidden_size=100, fc_out_size=500, kernel_size=kernel_size, \n",
    "        learning_rate=0.001, num_epochs=10, experiment_name='CNN_kernel_size_10epoch', \n",
    "        save_to_log=True, save_checkpoint=False, print_summary=True, print_intermediate=True)"
   ]
  },
  {
   "cell_type": "code",
   "execution_count": 113,
   "metadata": {},
   "outputs": [
    {
     "data": {
      "text/html": [
       "<div>\n",
       "<style scoped>\n",
       "    .dataframe tbody tr th:only-of-type {\n",
       "        vertical-align: middle;\n",
       "    }\n",
       "\n",
       "    .dataframe tbody tr th {\n",
       "        vertical-align: top;\n",
       "    }\n",
       "\n",
       "    .dataframe thead th {\n",
       "        text-align: right;\n",
       "    }\n",
       "</style>\n",
       "<table border=\"1\" class=\"dataframe\">\n",
       "  <thead>\n",
       "    <tr style=\"text-align: right;\">\n",
       "      <th></th>\n",
       "      <th>kernel_size</th>\n",
       "      <th>num_epochs</th>\n",
       "      <th>runtime</th>\n",
       "      <th>val_acc</th>\n",
       "    </tr>\n",
       "  </thead>\n",
       "  <tbody>\n",
       "    <tr>\n",
       "      <th>5</th>\n",
       "      <td>7</td>\n",
       "      <td>10</td>\n",
       "      <td>2970.121420</td>\n",
       "      <td>67.9</td>\n",
       "    </tr>\n",
       "    <tr>\n",
       "      <th>2</th>\n",
       "      <td>4</td>\n",
       "      <td>10</td>\n",
       "      <td>3015.023007</td>\n",
       "      <td>67.8</td>\n",
       "    </tr>\n",
       "    <tr>\n",
       "      <th>3</th>\n",
       "      <td>5</td>\n",
       "      <td>10</td>\n",
       "      <td>2986.128964</td>\n",
       "      <td>67.5</td>\n",
       "    </tr>\n",
       "    <tr>\n",
       "      <th>1</th>\n",
       "      <td>3</td>\n",
       "      <td>10</td>\n",
       "      <td>3066.791935</td>\n",
       "      <td>67.2</td>\n",
       "    </tr>\n",
       "    <tr>\n",
       "      <th>0</th>\n",
       "      <td>2</td>\n",
       "      <td>10</td>\n",
       "      <td>3035.196893</td>\n",
       "      <td>67.0</td>\n",
       "    </tr>\n",
       "    <tr>\n",
       "      <th>4</th>\n",
       "      <td>6</td>\n",
       "      <td>10</td>\n",
       "      <td>2973.847352</td>\n",
       "      <td>66.8</td>\n",
       "    </tr>\n",
       "  </tbody>\n",
       "</table>\n",
       "</div>"
      ],
      "text/plain": [
       "   kernel_size  num_epochs      runtime  val_acc\n",
       "5            7          10  2970.121420     67.9\n",
       "2            4          10  3015.023007     67.8\n",
       "3            5          10  2986.128964     67.5\n",
       "1            3          10  3066.791935     67.2\n",
       "0            2          10  3035.196893     67.0\n",
       "4            6          10  2973.847352     66.8"
      ]
     },
     "execution_count": 113,
     "metadata": {},
     "output_type": "execute_result"
    }
   ],
   "source": [
    "kernel_sizes_exps = summarize_results(load_experiment_log(experiment_name='CNN_kernel_size_10epoch', filename=RESULTS_LOG))\n",
    "kernel_sizes_exps[['kernel_size', 'num_epochs', 'runtime', 'val_acc']]"
   ]
  },
  {
   "cell_type": "code",
   "execution_count": 90,
   "metadata": {},
   "outputs": [
    {
     "name": "stdout",
     "output_type": "stream",
     "text": [
      "Training with hidden_size = 25 and fc_out_size = 100 ...\n",
      "Epoch: 0.00, Train Accuracy: 33.63%, Validation Accuracy: 33.10%\n",
      "Epoch: 0.06, Train Accuracy: 49.33%, Validation Accuracy: 47.60%\n"
     ]
    },
    {
     "ename": "KeyboardInterrupt",
     "evalue": "",
     "output_type": "error",
     "traceback": [
      "\u001b[0;31m---------------------------------------------------------------------------\u001b[0m",
      "\u001b[0;31mKeyboardInterrupt\u001b[0m                         Traceback (most recent call last)",
      "\u001b[0;32m<ipython-input-90-219edcf45230>\u001b[0m in \u001b[0;36m<module>\u001b[0;34m()\u001b[0m\n\u001b[1;32m     12\u001b[0m             \u001b[0mmodel_type\u001b[0m\u001b[0;34m=\u001b[0m\u001b[0;34m'cnn'\u001b[0m\u001b[0;34m,\u001b[0m \u001b[0mhidden_size\u001b[0m\u001b[0;34m=\u001b[0m\u001b[0mhidden_size\u001b[0m\u001b[0;34m,\u001b[0m \u001b[0mfc_out_size\u001b[0m\u001b[0;34m=\u001b[0m\u001b[0mfc_out_size\u001b[0m\u001b[0;34m,\u001b[0m \u001b[0mkernel_size\u001b[0m\u001b[0;34m=\u001b[0m\u001b[0mBEST_KERNEL_SIZE\u001b[0m\u001b[0;34m,\u001b[0m\u001b[0;34m\u001b[0m\u001b[0m\n\u001b[1;32m     13\u001b[0m             \u001b[0mlearning_rate\u001b[0m\u001b[0;34m=\u001b[0m\u001b[0;36m0.001\u001b[0m\u001b[0;34m,\u001b[0m \u001b[0mnum_epochs\u001b[0m\u001b[0;34m=\u001b[0m\u001b[0;36m10\u001b[0m\u001b[0;34m,\u001b[0m \u001b[0mexperiment_name\u001b[0m\u001b[0;34m=\u001b[0m\u001b[0;34m'CNN_hidden_fc_out_size_10epoch'\u001b[0m\u001b[0;34m,\u001b[0m\u001b[0;34m\u001b[0m\u001b[0m\n\u001b[0;32m---> 14\u001b[0;31m             save_to_log=True, save_checkpoint=False, print_summary=True, print_intermediate=True)\n\u001b[0m",
      "\u001b[0;32m<ipython-input-75-f16005ccde26>\u001b[0m in \u001b[0;36mrun_experiment\u001b[0;34m(train_loader, val_loader, model_type, hidden_size, fc_out_size, kernel_size, learning_rate, num_epochs, experiment_name, save_to_log, save_checkpoint, print_summary, print_intermediate)\u001b[0m\n\u001b[1;32m     23\u001b[0m     results = train_and_eval(model, train_loader, val_loader, num_epochs, learning_rate, \n\u001b[1;32m     24\u001b[0m                              \u001b[0mprint_intermediate\u001b[0m\u001b[0;34m=\u001b[0m\u001b[0mprint_intermediate\u001b[0m\u001b[0;34m,\u001b[0m \u001b[0msave_checkpoint\u001b[0m\u001b[0;34m=\u001b[0m\u001b[0msave_checkpoint\u001b[0m\u001b[0;34m,\u001b[0m\u001b[0;34m\u001b[0m\u001b[0m\n\u001b[0;32m---> 25\u001b[0;31m                              model_name=experiment_name)\n\u001b[0m\u001b[1;32m     26\u001b[0m \u001b[0;34m\u001b[0m\u001b[0m\n\u001b[1;32m     27\u001b[0m     \u001b[0;31m# store, print, and save results\u001b[0m\u001b[0;34m\u001b[0m\u001b[0;34m\u001b[0m\u001b[0m\n",
      "\u001b[0;32m<ipython-input-81-3cc053861dca>\u001b[0m in \u001b[0;36mtrain_and_eval\u001b[0;34m(model, train_loader, val_loader, num_epochs, learning_rate, print_intermediate, save_checkpoint, model_name)\u001b[0m\n\u001b[1;32m     49\u001b[0m                 \u001b[0mresult\u001b[0m \u001b[0;34m=\u001b[0m \u001b[0;34m{\u001b[0m\u001b[0;34m}\u001b[0m\u001b[0;34m\u001b[0m\u001b[0m\n\u001b[1;32m     50\u001b[0m                 \u001b[0mresult\u001b[0m\u001b[0;34m[\u001b[0m\u001b[0;34m'epoch'\u001b[0m\u001b[0;34m]\u001b[0m \u001b[0;34m=\u001b[0m \u001b[0mepoch\u001b[0m \u001b[0;34m+\u001b[0m \u001b[0mi\u001b[0m \u001b[0;34m/\u001b[0m \u001b[0mlen\u001b[0m\u001b[0;34m(\u001b[0m\u001b[0mtrain_loader\u001b[0m\u001b[0;34m)\u001b[0m\u001b[0;34m\u001b[0m\u001b[0m\n\u001b[0;32m---> 51\u001b[0;31m                 \u001b[0mresult\u001b[0m\u001b[0;34m[\u001b[0m\u001b[0;34m'train_acc'\u001b[0m\u001b[0;34m]\u001b[0m\u001b[0;34m,\u001b[0m \u001b[0m_\u001b[0m\u001b[0;34m,\u001b[0m \u001b[0m_\u001b[0m \u001b[0;34m=\u001b[0m \u001b[0mtest_model\u001b[0m\u001b[0;34m(\u001b[0m\u001b[0mtrain_loader\u001b[0m\u001b[0;34m,\u001b[0m \u001b[0mmodel\u001b[0m\u001b[0;34m)\u001b[0m\u001b[0;34m\u001b[0m\u001b[0m\n\u001b[0m\u001b[1;32m     52\u001b[0m                 \u001b[0mresult\u001b[0m\u001b[0;34m[\u001b[0m\u001b[0;34m'val_acc'\u001b[0m\u001b[0;34m]\u001b[0m\u001b[0;34m,\u001b[0m \u001b[0m_\u001b[0m\u001b[0;34m,\u001b[0m \u001b[0m_\u001b[0m \u001b[0;34m=\u001b[0m \u001b[0mtest_model\u001b[0m\u001b[0;34m(\u001b[0m\u001b[0mval_loader\u001b[0m\u001b[0;34m,\u001b[0m \u001b[0mmodel\u001b[0m\u001b[0;34m)\u001b[0m\u001b[0;34m\u001b[0m\u001b[0m\n\u001b[1;32m     53\u001b[0m                 \u001b[0mresults\u001b[0m\u001b[0;34m.\u001b[0m\u001b[0mappend\u001b[0m\u001b[0;34m(\u001b[0m\u001b[0mresult\u001b[0m\u001b[0;34m)\u001b[0m\u001b[0;34m\u001b[0m\u001b[0m\n",
      "\u001b[0;32m<ipython-input-81-3cc053861dca>\u001b[0m in \u001b[0;36mtest_model\u001b[0;34m(loader, model)\u001b[0m\n\u001b[1;32m     14\u001b[0m     \u001b[0;32mfor\u001b[0m \u001b[0msent1s\u001b[0m\u001b[0;34m,\u001b[0m \u001b[0msent2s\u001b[0m\u001b[0;34m,\u001b[0m \u001b[0msent1_lens\u001b[0m\u001b[0;34m,\u001b[0m \u001b[0msent2_lens\u001b[0m\u001b[0;34m,\u001b[0m \u001b[0mlabels\u001b[0m \u001b[0;32min\u001b[0m \u001b[0mloader\u001b[0m\u001b[0;34m:\u001b[0m\u001b[0;34m\u001b[0m\u001b[0m\n\u001b[1;32m     15\u001b[0m         \u001b[0msent1s\u001b[0m\u001b[0;34m,\u001b[0m \u001b[0msent2s\u001b[0m\u001b[0;34m,\u001b[0m \u001b[0msent1_lens\u001b[0m\u001b[0;34m,\u001b[0m \u001b[0msent2_lens\u001b[0m\u001b[0;34m,\u001b[0m \u001b[0mlabels\u001b[0m \u001b[0;34m=\u001b[0m \u001b[0msent1s\u001b[0m\u001b[0;34m.\u001b[0m\u001b[0mto\u001b[0m\u001b[0;34m(\u001b[0m\u001b[0mdevice\u001b[0m\u001b[0;34m)\u001b[0m\u001b[0;34m,\u001b[0m \u001b[0msent2s\u001b[0m\u001b[0;34m.\u001b[0m\u001b[0mto\u001b[0m\u001b[0;34m(\u001b[0m\u001b[0mdevice\u001b[0m\u001b[0;34m)\u001b[0m\u001b[0;34m,\u001b[0m \u001b[0msent1_lens\u001b[0m\u001b[0;34m.\u001b[0m\u001b[0mto\u001b[0m\u001b[0;34m(\u001b[0m\u001b[0mdevice\u001b[0m\u001b[0;34m)\u001b[0m\u001b[0;34m,\u001b[0m \u001b[0msent2_lens\u001b[0m\u001b[0;34m.\u001b[0m\u001b[0mto\u001b[0m\u001b[0;34m(\u001b[0m\u001b[0mdevice\u001b[0m\u001b[0;34m)\u001b[0m\u001b[0;34m,\u001b[0m \u001b[0mlabels\u001b[0m\u001b[0;34m.\u001b[0m\u001b[0mto\u001b[0m\u001b[0;34m(\u001b[0m\u001b[0mdevice\u001b[0m\u001b[0;34m)\u001b[0m\u001b[0;34m\u001b[0m\u001b[0m\n\u001b[0;32m---> 16\u001b[0;31m         \u001b[0moutputs\u001b[0m \u001b[0;34m=\u001b[0m \u001b[0mF\u001b[0m\u001b[0;34m.\u001b[0m\u001b[0msoftmax\u001b[0m\u001b[0;34m(\u001b[0m\u001b[0mmodel\u001b[0m\u001b[0;34m(\u001b[0m\u001b[0msent1s\u001b[0m\u001b[0;34m,\u001b[0m \u001b[0msent2s\u001b[0m\u001b[0;34m,\u001b[0m \u001b[0msent1_lens\u001b[0m\u001b[0;34m,\u001b[0m \u001b[0msent2_lens\u001b[0m\u001b[0;34m)\u001b[0m\u001b[0;34m,\u001b[0m \u001b[0mdim\u001b[0m\u001b[0;34m=\u001b[0m\u001b[0;36m1\u001b[0m\u001b[0;34m)\u001b[0m\u001b[0;34m\u001b[0m\u001b[0m\n\u001b[0m\u001b[1;32m     17\u001b[0m         \u001b[0mpredictions\u001b[0m \u001b[0;34m=\u001b[0m \u001b[0moutputs\u001b[0m\u001b[0;34m.\u001b[0m\u001b[0mmax\u001b[0m\u001b[0;34m(\u001b[0m\u001b[0;36m1\u001b[0m\u001b[0;34m,\u001b[0m \u001b[0mkeepdim\u001b[0m\u001b[0;34m=\u001b[0m\u001b[0;32mTrue\u001b[0m\u001b[0;34m)\u001b[0m\u001b[0;34m[\u001b[0m\u001b[0;36m1\u001b[0m\u001b[0;34m]\u001b[0m\u001b[0;34m\u001b[0m\u001b[0m\n\u001b[1;32m     18\u001b[0m         \u001b[0mtotal\u001b[0m \u001b[0;34m+=\u001b[0m \u001b[0mlabels\u001b[0m\u001b[0;34m.\u001b[0m\u001b[0msize\u001b[0m\u001b[0;34m(\u001b[0m\u001b[0;36m0\u001b[0m\u001b[0;34m)\u001b[0m\u001b[0;34m\u001b[0m\u001b[0m\n",
      "\u001b[0;32m~/anaconda/envs/nlpclass/lib/python3.6/site-packages/torch/nn/modules/module.py\u001b[0m in \u001b[0;36m__call__\u001b[0;34m(self, *input, **kwargs)\u001b[0m\n\u001b[1;32m    475\u001b[0m             \u001b[0mresult\u001b[0m \u001b[0;34m=\u001b[0m \u001b[0mself\u001b[0m\u001b[0;34m.\u001b[0m\u001b[0m_slow_forward\u001b[0m\u001b[0;34m(\u001b[0m\u001b[0;34m*\u001b[0m\u001b[0minput\u001b[0m\u001b[0;34m,\u001b[0m \u001b[0;34m**\u001b[0m\u001b[0mkwargs\u001b[0m\u001b[0;34m)\u001b[0m\u001b[0;34m\u001b[0m\u001b[0m\n\u001b[1;32m    476\u001b[0m         \u001b[0;32melse\u001b[0m\u001b[0;34m:\u001b[0m\u001b[0;34m\u001b[0m\u001b[0m\n\u001b[0;32m--> 477\u001b[0;31m             \u001b[0mresult\u001b[0m \u001b[0;34m=\u001b[0m \u001b[0mself\u001b[0m\u001b[0;34m.\u001b[0m\u001b[0mforward\u001b[0m\u001b[0;34m(\u001b[0m\u001b[0;34m*\u001b[0m\u001b[0minput\u001b[0m\u001b[0;34m,\u001b[0m \u001b[0;34m**\u001b[0m\u001b[0mkwargs\u001b[0m\u001b[0;34m)\u001b[0m\u001b[0;34m\u001b[0m\u001b[0m\n\u001b[0m\u001b[1;32m    478\u001b[0m         \u001b[0;32mfor\u001b[0m \u001b[0mhook\u001b[0m \u001b[0;32min\u001b[0m \u001b[0mself\u001b[0m\u001b[0;34m.\u001b[0m\u001b[0m_forward_hooks\u001b[0m\u001b[0;34m.\u001b[0m\u001b[0mvalues\u001b[0m\u001b[0;34m(\u001b[0m\u001b[0;34m)\u001b[0m\u001b[0;34m:\u001b[0m\u001b[0;34m\u001b[0m\u001b[0m\n\u001b[1;32m    479\u001b[0m             \u001b[0mhook_result\u001b[0m \u001b[0;34m=\u001b[0m \u001b[0mhook\u001b[0m\u001b[0;34m(\u001b[0m\u001b[0mself\u001b[0m\u001b[0;34m,\u001b[0m \u001b[0minput\u001b[0m\u001b[0;34m,\u001b[0m \u001b[0mresult\u001b[0m\u001b[0;34m)\u001b[0m\u001b[0;34m\u001b[0m\u001b[0m\n",
      "\u001b[0;32m<ipython-input-62-a9a166e35748>\u001b[0m in \u001b[0;36mforward\u001b[0;34m(self, x1, x2, x1_lengths, x2_lengths)\u001b[0m\n\u001b[1;32m     22\u001b[0m         \u001b[0mbatch_size\u001b[0m\u001b[0;34m,\u001b[0m \u001b[0mseq_len\u001b[0m \u001b[0;34m=\u001b[0m \u001b[0mx1\u001b[0m\u001b[0;34m.\u001b[0m\u001b[0msize\u001b[0m\u001b[0;34m(\u001b[0m\u001b[0;34m)\u001b[0m\u001b[0;34m\u001b[0m\u001b[0m\n\u001b[1;32m     23\u001b[0m \u001b[0;34m\u001b[0m\u001b[0m\n\u001b[0;32m---> 24\u001b[0;31m         \u001b[0membed1\u001b[0m \u001b[0;34m=\u001b[0m \u001b[0mself\u001b[0m\u001b[0;34m.\u001b[0m\u001b[0membedding1\u001b[0m\u001b[0;34m(\u001b[0m\u001b[0mx1\u001b[0m\u001b[0;34m)\u001b[0m\u001b[0;34m\u001b[0m\u001b[0m\n\u001b[0m\u001b[1;32m     25\u001b[0m         \u001b[0mhidden1\u001b[0m \u001b[0;34m=\u001b[0m \u001b[0mself\u001b[0m\u001b[0;34m.\u001b[0m\u001b[0mconv11\u001b[0m\u001b[0;34m(\u001b[0m\u001b[0membed1\u001b[0m\u001b[0;34m.\u001b[0m\u001b[0mtranspose\u001b[0m\u001b[0;34m(\u001b[0m\u001b[0;36m1\u001b[0m\u001b[0;34m,\u001b[0m\u001b[0;36m2\u001b[0m\u001b[0;34m)\u001b[0m\u001b[0;34m)\u001b[0m\u001b[0;34m.\u001b[0m\u001b[0mtranspose\u001b[0m\u001b[0;34m(\u001b[0m\u001b[0;36m1\u001b[0m\u001b[0;34m,\u001b[0m\u001b[0;36m2\u001b[0m\u001b[0;34m)\u001b[0m\u001b[0;34m\u001b[0m\u001b[0m\n\u001b[1;32m     26\u001b[0m \u001b[0;31m#        hidden1 = F.leaky_relu(hidden1.contiguous().view(-1, hidden1.size(-1))).view(batch_size, seq_len, hidden1.size(-1))\u001b[0m\u001b[0;34m\u001b[0m\u001b[0;34m\u001b[0m\u001b[0m\n",
      "\u001b[0;32m~/anaconda/envs/nlpclass/lib/python3.6/site-packages/torch/nn/modules/module.py\u001b[0m in \u001b[0;36m__call__\u001b[0;34m(self, *input, **kwargs)\u001b[0m\n\u001b[1;32m    475\u001b[0m             \u001b[0mresult\u001b[0m \u001b[0;34m=\u001b[0m \u001b[0mself\u001b[0m\u001b[0;34m.\u001b[0m\u001b[0m_slow_forward\u001b[0m\u001b[0;34m(\u001b[0m\u001b[0;34m*\u001b[0m\u001b[0minput\u001b[0m\u001b[0;34m,\u001b[0m \u001b[0;34m**\u001b[0m\u001b[0mkwargs\u001b[0m\u001b[0;34m)\u001b[0m\u001b[0;34m\u001b[0m\u001b[0m\n\u001b[1;32m    476\u001b[0m         \u001b[0;32melse\u001b[0m\u001b[0;34m:\u001b[0m\u001b[0;34m\u001b[0m\u001b[0m\n\u001b[0;32m--> 477\u001b[0;31m             \u001b[0mresult\u001b[0m \u001b[0;34m=\u001b[0m \u001b[0mself\u001b[0m\u001b[0;34m.\u001b[0m\u001b[0mforward\u001b[0m\u001b[0;34m(\u001b[0m\u001b[0;34m*\u001b[0m\u001b[0minput\u001b[0m\u001b[0;34m,\u001b[0m \u001b[0;34m**\u001b[0m\u001b[0mkwargs\u001b[0m\u001b[0;34m)\u001b[0m\u001b[0;34m\u001b[0m\u001b[0m\n\u001b[0m\u001b[1;32m    478\u001b[0m         \u001b[0;32mfor\u001b[0m \u001b[0mhook\u001b[0m \u001b[0;32min\u001b[0m \u001b[0mself\u001b[0m\u001b[0;34m.\u001b[0m\u001b[0m_forward_hooks\u001b[0m\u001b[0;34m.\u001b[0m\u001b[0mvalues\u001b[0m\u001b[0;34m(\u001b[0m\u001b[0;34m)\u001b[0m\u001b[0;34m:\u001b[0m\u001b[0;34m\u001b[0m\u001b[0m\n\u001b[1;32m    479\u001b[0m             \u001b[0mhook_result\u001b[0m \u001b[0;34m=\u001b[0m \u001b[0mhook\u001b[0m\u001b[0;34m(\u001b[0m\u001b[0mself\u001b[0m\u001b[0;34m,\u001b[0m \u001b[0minput\u001b[0m\u001b[0;34m,\u001b[0m \u001b[0mresult\u001b[0m\u001b[0;34m)\u001b[0m\u001b[0;34m\u001b[0m\u001b[0m\n",
      "\u001b[0;32m~/anaconda/envs/nlpclass/lib/python3.6/site-packages/torch/nn/modules/sparse.py\u001b[0m in \u001b[0;36mforward\u001b[0;34m(self, input)\u001b[0m\n\u001b[1;32m    108\u001b[0m         return F.embedding(\n\u001b[1;32m    109\u001b[0m             \u001b[0minput\u001b[0m\u001b[0;34m,\u001b[0m \u001b[0mself\u001b[0m\u001b[0;34m.\u001b[0m\u001b[0mweight\u001b[0m\u001b[0;34m,\u001b[0m \u001b[0mself\u001b[0m\u001b[0;34m.\u001b[0m\u001b[0mpadding_idx\u001b[0m\u001b[0;34m,\u001b[0m \u001b[0mself\u001b[0m\u001b[0;34m.\u001b[0m\u001b[0mmax_norm\u001b[0m\u001b[0;34m,\u001b[0m\u001b[0;34m\u001b[0m\u001b[0m\n\u001b[0;32m--> 110\u001b[0;31m             self.norm_type, self.scale_grad_by_freq, self.sparse)\n\u001b[0m\u001b[1;32m    111\u001b[0m \u001b[0;34m\u001b[0m\u001b[0m\n\u001b[1;32m    112\u001b[0m     \u001b[0;32mdef\u001b[0m \u001b[0mextra_repr\u001b[0m\u001b[0;34m(\u001b[0m\u001b[0mself\u001b[0m\u001b[0;34m)\u001b[0m\u001b[0;34m:\u001b[0m\u001b[0;34m\u001b[0m\u001b[0m\n",
      "\u001b[0;32m~/anaconda/envs/nlpclass/lib/python3.6/site-packages/torch/nn/functional.py\u001b[0m in \u001b[0;36membedding\u001b[0;34m(input, weight, padding_idx, max_norm, norm_type, scale_grad_by_freq, sparse)\u001b[0m\n\u001b[1;32m   1108\u001b[0m         \u001b[0;32mwith\u001b[0m \u001b[0mtorch\u001b[0m\u001b[0;34m.\u001b[0m\u001b[0mno_grad\u001b[0m\u001b[0;34m(\u001b[0m\u001b[0;34m)\u001b[0m\u001b[0;34m:\u001b[0m\u001b[0;34m\u001b[0m\u001b[0m\n\u001b[1;32m   1109\u001b[0m             \u001b[0mtorch\u001b[0m\u001b[0;34m.\u001b[0m\u001b[0membedding_renorm_\u001b[0m\u001b[0;34m(\u001b[0m\u001b[0mweight\u001b[0m\u001b[0;34m,\u001b[0m \u001b[0minput\u001b[0m\u001b[0;34m,\u001b[0m \u001b[0mmax_norm\u001b[0m\u001b[0;34m,\u001b[0m \u001b[0mnorm_type\u001b[0m\u001b[0;34m)\u001b[0m\u001b[0;34m\u001b[0m\u001b[0m\n\u001b[0;32m-> 1110\u001b[0;31m     \u001b[0;32mreturn\u001b[0m \u001b[0mtorch\u001b[0m\u001b[0;34m.\u001b[0m\u001b[0membedding\u001b[0m\u001b[0;34m(\u001b[0m\u001b[0mweight\u001b[0m\u001b[0;34m,\u001b[0m \u001b[0minput\u001b[0m\u001b[0;34m,\u001b[0m \u001b[0mpadding_idx\u001b[0m\u001b[0;34m,\u001b[0m \u001b[0mscale_grad_by_freq\u001b[0m\u001b[0;34m,\u001b[0m \u001b[0msparse\u001b[0m\u001b[0;34m)\u001b[0m\u001b[0;34m\u001b[0m\u001b[0m\n\u001b[0m\u001b[1;32m   1111\u001b[0m \u001b[0;34m\u001b[0m\u001b[0m\n\u001b[1;32m   1112\u001b[0m \u001b[0;34m\u001b[0m\u001b[0m\n",
      "\u001b[0;31mKeyboardInterrupt\u001b[0m: "
     ]
    }
   ],
   "source": [
    "BEST_KERNEL_SIZE = 3\n",
    "hidden_sizes = [25, 50, 100, 200]\n",
    "fc_out_sizes = [100, 200, 300, 500, 750]\n",
    "\n",
    "for hidden_size in hidden_sizes: \n",
    "    for fc_out_size in fc_out_sizes: \n",
    "        print (\"Training with hidden_size = {} and fc_out_size = {} ...\".format(hidden_size, fc_out_size))\n",
    "\n",
    "        # train and evaluate\n",
    "        results, hyperparams, runtime, _, _, _ = run_experiment(\n",
    "            train_loader=snli_train_loader, val_loader=snli_val_loader,\n",
    "            model_type='cnn', hidden_size=hidden_size, fc_out_size=fc_out_size, kernel_size=BEST_KERNEL_SIZE, \n",
    "            learning_rate=0.001, num_epochs=10, experiment_name='CNN_hidden_fc_out_size_10epoch', \n",
    "            save_to_log=True, save_checkpoint=False, print_summary=True, print_intermediate=True)"
   ]
  },
  {
   "cell_type": "code",
   "execution_count": 115,
   "metadata": {},
   "outputs": [
    {
     "data": {
      "text/html": [
       "<div>\n",
       "<style scoped>\n",
       "    .dataframe tbody tr th:only-of-type {\n",
       "        vertical-align: middle;\n",
       "    }\n",
       "\n",
       "    .dataframe tbody tr th {\n",
       "        vertical-align: top;\n",
       "    }\n",
       "\n",
       "    .dataframe thead th {\n",
       "        text-align: right;\n",
       "    }\n",
       "</style>\n",
       "<table border=\"1\" class=\"dataframe\">\n",
       "  <thead>\n",
       "    <tr style=\"text-align: right;\">\n",
       "      <th></th>\n",
       "      <th>hidden_size</th>\n",
       "      <th>fc_out_size</th>\n",
       "      <th>num_epochs</th>\n",
       "      <th>runtime</th>\n",
       "      <th>val_acc</th>\n",
       "      <th>learning_rate</th>\n",
       "    </tr>\n",
       "  </thead>\n",
       "  <tbody>\n",
       "    <tr>\n",
       "      <th>0</th>\n",
       "      <td>25</td>\n",
       "      <td>100</td>\n",
       "      <td>10</td>\n",
       "      <td>2726.342484</td>\n",
       "      <td>66.9</td>\n",
       "      <td>0.001</td>\n",
       "    </tr>\n",
       "    <tr>\n",
       "      <th>1</th>\n",
       "      <td>25</td>\n",
       "      <td>200</td>\n",
       "      <td>10</td>\n",
       "      <td>2733.828971</td>\n",
       "      <td>66.9</td>\n",
       "      <td>0.001</td>\n",
       "    </tr>\n",
       "    <tr>\n",
       "      <th>2</th>\n",
       "      <td>25</td>\n",
       "      <td>300</td>\n",
       "      <td>10</td>\n",
       "      <td>2738.308135</td>\n",
       "      <td>67.8</td>\n",
       "      <td>0.001</td>\n",
       "    </tr>\n",
       "    <tr>\n",
       "      <th>3</th>\n",
       "      <td>25</td>\n",
       "      <td>500</td>\n",
       "      <td>10</td>\n",
       "      <td>2746.152028</td>\n",
       "      <td>66.8</td>\n",
       "      <td>0.001</td>\n",
       "    </tr>\n",
       "    <tr>\n",
       "      <th>4</th>\n",
       "      <td>25</td>\n",
       "      <td>750</td>\n",
       "      <td>10</td>\n",
       "      <td>2756.853067</td>\n",
       "      <td>67.5</td>\n",
       "      <td>0.001</td>\n",
       "    </tr>\n",
       "    <tr>\n",
       "      <th>5</th>\n",
       "      <td>50</td>\n",
       "      <td>100</td>\n",
       "      <td>10</td>\n",
       "      <td>2774.530702</td>\n",
       "      <td>67.1</td>\n",
       "      <td>0.001</td>\n",
       "    </tr>\n",
       "    <tr>\n",
       "      <th>6</th>\n",
       "      <td>50</td>\n",
       "      <td>200</td>\n",
       "      <td>10</td>\n",
       "      <td>2786.133219</td>\n",
       "      <td>67.7</td>\n",
       "      <td>0.001</td>\n",
       "    </tr>\n",
       "    <tr>\n",
       "      <th>7</th>\n",
       "      <td>50</td>\n",
       "      <td>300</td>\n",
       "      <td>10</td>\n",
       "      <td>2790.517048</td>\n",
       "      <td>68.4</td>\n",
       "      <td>0.001</td>\n",
       "    </tr>\n",
       "    <tr>\n",
       "      <th>8</th>\n",
       "      <td>50</td>\n",
       "      <td>500</td>\n",
       "      <td>10</td>\n",
       "      <td>2793.857065</td>\n",
       "      <td>68.9</td>\n",
       "      <td>0.001</td>\n",
       "    </tr>\n",
       "    <tr>\n",
       "      <th>9</th>\n",
       "      <td>50</td>\n",
       "      <td>750</td>\n",
       "      <td>10</td>\n",
       "      <td>2806.106836</td>\n",
       "      <td>67.5</td>\n",
       "      <td>0.001</td>\n",
       "    </tr>\n",
       "    <tr>\n",
       "      <th>10</th>\n",
       "      <td>100</td>\n",
       "      <td>100</td>\n",
       "      <td>10</td>\n",
       "      <td>3036.924504</td>\n",
       "      <td>68.4</td>\n",
       "      <td>0.001</td>\n",
       "    </tr>\n",
       "    <tr>\n",
       "      <th>11</th>\n",
       "      <td>100</td>\n",
       "      <td>200</td>\n",
       "      <td>10</td>\n",
       "      <td>2983.627376</td>\n",
       "      <td>67.3</td>\n",
       "      <td>0.001</td>\n",
       "    </tr>\n",
       "    <tr>\n",
       "      <th>12</th>\n",
       "      <td>100</td>\n",
       "      <td>300</td>\n",
       "      <td>10</td>\n",
       "      <td>2991.241772</td>\n",
       "      <td>66.7</td>\n",
       "      <td>0.001</td>\n",
       "    </tr>\n",
       "    <tr>\n",
       "      <th>13</th>\n",
       "      <td>100</td>\n",
       "      <td>500</td>\n",
       "      <td>10</td>\n",
       "      <td>3046.031637</td>\n",
       "      <td>67.8</td>\n",
       "      <td>0.001</td>\n",
       "    </tr>\n",
       "  </tbody>\n",
       "</table>\n",
       "</div>"
      ],
      "text/plain": [
       "    hidden_size  fc_out_size  num_epochs      runtime  val_acc  learning_rate\n",
       "0            25          100          10  2726.342484     66.9          0.001\n",
       "1            25          200          10  2733.828971     66.9          0.001\n",
       "2            25          300          10  2738.308135     67.8          0.001\n",
       "3            25          500          10  2746.152028     66.8          0.001\n",
       "4            25          750          10  2756.853067     67.5          0.001\n",
       "5            50          100          10  2774.530702     67.1          0.001\n",
       "6            50          200          10  2786.133219     67.7          0.001\n",
       "7            50          300          10  2790.517048     68.4          0.001\n",
       "8            50          500          10  2793.857065     68.9          0.001\n",
       "9            50          750          10  2806.106836     67.5          0.001\n",
       "10          100          100          10  3036.924504     68.4          0.001\n",
       "11          100          200          10  2983.627376     67.3          0.001\n",
       "12          100          300          10  2991.241772     66.7          0.001\n",
       "13          100          500          10  3046.031637     67.8          0.001"
      ]
     },
     "execution_count": 115,
     "metadata": {},
     "output_type": "execute_result"
    }
   ],
   "source": [
    "cnn_hidden_fc_out_size_exps = summarize_results(load_experiment_log(experiment_name='CNN_hidden_fc_out_size_10epoch', filename=RESULTS_LOG))\n",
    "cnn_hidden_fc_out_size_exps[['hidden_size', 'fc_out_size', 'num_epochs', 'runtime', 'val_acc', 'learning_rate']].sort_values(['hidden_size', 'fc_out_size'])"
   ]
  },
  {
   "cell_type": "markdown",
   "metadata": {},
   "source": [
    "# Model Evaluation "
   ]
  },
  {
   "cell_type": "markdown",
   "metadata": {},
   "source": [
    "#### Reload Best Models  "
   ]
  },
  {
   "cell_type": "code",
   "execution_count": 197,
   "metadata": {},
   "outputs": [],
   "source": [
    "# reload best RNN \n",
    "best_rnn_model_snli = rnn_model(emb_size=300, num_layers=1, num_classes=3, pretrained_weights=pretrained_weights,\n",
    "                                hidden_size=BEST_RNN_HIDDEN_SIZE, fc_out_size=BEST_RNN_FC_OUT_SIZE)\n",
    "checkpoint = torch.load('model_checkpoints/{}.pth.tar'.format(BEST_RNN_MODEL_NAME), map_location=device)\n",
    "best_rnn_model_snli.load_state_dict(checkpoint)\n",
    "#checkpoint = torch.load('model_checkpoints/{}.pth.tar'.format(BEST_RNN_MODEL_NAME))\n",
    "#checkpoint = torch.load('model_checkpoints/{}.pth.tar'.format(BEST_RNN_MODEL_NAME), map_location='cpu')\n",
    "#torch.load('encoder.pt', map_location=lambda storage, loc: storage)"
   ]
  },
  {
   "cell_type": "code",
   "execution_count": 212,
   "metadata": {},
   "outputs": [],
   "source": [
    "# TODO: reload best CNN"
   ]
  },
  {
   "cell_type": "markdown",
   "metadata": {},
   "source": [
    "#### Evaluate on SNLI Validation Set "
   ]
  },
  {
   "cell_type": "code",
   "execution_count": 237,
   "metadata": {},
   "outputs": [
    {
     "name": "stdout",
     "output_type": "stream",
     "text": [
      "68.3\n"
     ]
    }
   ],
   "source": [
    "# retest on SNLI validation set \n",
    "val_accuracy, val_predictions, val_labels = test_model(snli_val_loader, best_rnn_model_snli) \n",
    "print(val_accuracy)"
   ]
  },
  {
   "cell_type": "markdown",
   "metadata": {},
   "source": [
    "#### Evaluate on MNLI Validation Set (Unseen) "
   ]
  },
  {
   "cell_type": "code",
   "execution_count": 219,
   "metadata": {},
   "outputs": [
    {
     "data": {
      "text/plain": [
       "telephone     4270\n",
       "slate         4026\n",
       "travel        3985\n",
       "government    3883\n",
       "fiction       3836\n",
       "Name: genre, dtype: int64"
      ]
     },
     "execution_count": 219,
     "metadata": {},
     "output_type": "execute_result"
    }
   ],
   "source": [
    "mnli_genres = mnli_train['genre'].unique()\n",
    "mnli_train['genre'].value_counts()"
   ]
  },
  {
   "cell_type": "code",
   "execution_count": 232,
   "metadata": {},
   "outputs": [
    {
     "data": {
      "text/html": [
       "<div>\n",
       "<style scoped>\n",
       "    .dataframe tbody tr th:only-of-type {\n",
       "        vertical-align: middle;\n",
       "    }\n",
       "\n",
       "    .dataframe tbody tr th {\n",
       "        vertical-align: top;\n",
       "    }\n",
       "\n",
       "    .dataframe thead th {\n",
       "        text-align: right;\n",
       "    }\n",
       "</style>\n",
       "<table border=\"1\" class=\"dataframe\">\n",
       "  <thead>\n",
       "    <tr style=\"text-align: right;\">\n",
       "      <th></th>\n",
       "      <th>sentence1</th>\n",
       "      <th>sentence2</th>\n",
       "      <th>label</th>\n",
       "      <th>genre</th>\n",
       "    </tr>\n",
       "  </thead>\n",
       "  <tbody>\n",
       "    <tr>\n",
       "      <th>0</th>\n",
       "      <td>and now that was in fifty one that 's forty years ago that it was already a problem so it 's now uh</td>\n",
       "      <td>It was already a problem forty years ago but now it 's ten times worse !</td>\n",
       "      <td>neutral</td>\n",
       "      <td>telephone</td>\n",
       "    </tr>\n",
       "    <tr>\n",
       "      <th>1</th>\n",
       "      <td>Jon could smell baked bread on the air and his stomach rumbled .</td>\n",
       "      <td>Jon smelt food in the air and was hungry .</td>\n",
       "      <td>neutral</td>\n",
       "      <td>fiction</td>\n",
       "    </tr>\n",
       "    <tr>\n",
       "      <th>2</th>\n",
       "      <td>it will be like Italian basketball with the uh with with the uh NBA</td>\n",
       "      <td>This type of Italian basketball is nothing like the NBA .</td>\n",
       "      <td>contradiction</td>\n",
       "      <td>telephone</td>\n",
       "    </tr>\n",
       "    <tr>\n",
       "      <th>3</th>\n",
       "      <td>well i think that 's about uh that 's about covered it for me so i think i 'll say good-bye and ...</td>\n",
       "      <td>Sorry but we are not done just yet .</td>\n",
       "      <td>contradiction</td>\n",
       "      <td>telephone</td>\n",
       "    </tr>\n",
       "    <tr>\n",
       "      <th>4</th>\n",
       "      <td>Good job tenure , that is -- because in yet another column , she sneers at Sara Davidson for wor...</td>\n",
       "      <td>Dr. Quinn , Medicine Woman , was worked on by Sara Davidson .</td>\n",
       "      <td>entailment</td>\n",
       "      <td>slate</td>\n",
       "    </tr>\n",
       "  </tbody>\n",
       "</table>\n",
       "</div>"
      ],
      "text/plain": [
       "                                                                                             sentence1  \\\n",
       "0  and now that was in fifty one that 's forty years ago that it was already a problem so it 's now uh   \n",
       "1                                     Jon could smell baked bread on the air and his stomach rumbled .   \n",
       "2                                  it will be like Italian basketball with the uh with with the uh NBA   \n",
       "3  well i think that 's about uh that 's about covered it for me so i think i 'll say good-bye and ...   \n",
       "4  Good job tenure , that is -- because in yet another column , she sneers at Sara Davidson for wor...   \n",
       "\n",
       "                                                                  sentence2  \\\n",
       "0  It was already a problem forty years ago but now it 's ten times worse !   \n",
       "1                                Jon smelt food in the air and was hungry .   \n",
       "2                 This type of Italian basketball is nothing like the NBA .   \n",
       "3                                      Sorry but we are not done just yet .   \n",
       "4             Dr. Quinn , Medicine Woman , was worked on by Sara Davidson .   \n",
       "\n",
       "           label      genre  \n",
       "0        neutral  telephone  \n",
       "1        neutral    fiction  \n",
       "2  contradiction  telephone  \n",
       "3  contradiction  telephone  \n",
       "4     entailment      slate  "
      ]
     },
     "execution_count": 232,
     "metadata": {},
     "output_type": "execute_result"
    }
   ],
   "source": [
    "mnli_train.head()"
   ]
  },
  {
   "cell_type": "code",
   "execution_count": 227,
   "metadata": {},
   "outputs": [
    {
     "name": "stderr",
     "output_type": "stream",
     "text": [
      "/Users/Gary/anaconda/envs/nlpclass/lib/python3.6/site-packages/ipykernel_launcher.py:6: UserWarning: Boolean Series key will be reindexed to match DataFrame index.\n",
      "  \n"
     ]
    }
   ],
   "source": [
    "# create data loaders and put in a dictionary \n",
    "\n",
    "mnli_data_loaders = {} \n",
    "for genre in mnli_genres: \n",
    "    # create train loader \n",
    "    genre_train = mnli_val[mnli_train['genre'] == genre].copy()\n",
    "    train_sent1, train_sent2, train_labels = df_to_list(genre_train, token2id)\n",
    "    train_loader = create_data_loader(train_sent1, train_sent2, train_labels)\n",
    "    # create val loader \n",
    "    genre_val = mnli_val[mnli_val['genre'] == genre].copy()\n",
    "    val_sent1, val_sent2, val_labels = df_to_list(genre_val, token2id)\n",
    "    val_loader = create_data_loader(val_sent1, val_sent2, val_labels)\n",
    "    # return loaders as (train_loader, val_loader) tuple stored as genre's value in dict \n",
    "    mnli_data_loaders[genre] = (train_loader, val_loader)"
   ]
  },
  {
   "cell_type": "code",
   "execution_count": 239,
   "metadata": {},
   "outputs": [],
   "source": [
    "rnn_eval_results = [] \n",
    "for genre in mnli_genres: \n",
    "    result ={} \n",
    "    result['genre'] = genre \n",
    "    val_accuracy, val_predictions, val_labels = test_model(mnli_data_loaders[genre][1], best_rnn_model_snli) \n",
    "    result['test_accuracy'] = val_accuracy \n",
    "    rnn_eval_results.append(result) "
   ]
  },
  {
   "cell_type": "code",
   "execution_count": 241,
   "metadata": {},
   "outputs": [
    {
     "data": {
      "text/html": [
       "<div>\n",
       "<style scoped>\n",
       "    .dataframe tbody tr th:only-of-type {\n",
       "        vertical-align: middle;\n",
       "    }\n",
       "\n",
       "    .dataframe tbody tr th {\n",
       "        vertical-align: top;\n",
       "    }\n",
       "\n",
       "    .dataframe thead th {\n",
       "        text-align: right;\n",
       "    }\n",
       "</style>\n",
       "<table border=\"1\" class=\"dataframe\">\n",
       "  <thead>\n",
       "    <tr style=\"text-align: right;\">\n",
       "      <th></th>\n",
       "      <th>genre</th>\n",
       "      <th>test_accuracy</th>\n",
       "    </tr>\n",
       "  </thead>\n",
       "  <tbody>\n",
       "    <tr>\n",
       "      <th>0</th>\n",
       "      <td>telephone</td>\n",
       "      <td>42.686567</td>\n",
       "    </tr>\n",
       "    <tr>\n",
       "      <th>1</th>\n",
       "      <td>fiction</td>\n",
       "      <td>44.422111</td>\n",
       "    </tr>\n",
       "    <tr>\n",
       "      <th>2</th>\n",
       "      <td>slate</td>\n",
       "      <td>43.612774</td>\n",
       "    </tr>\n",
       "    <tr>\n",
       "      <th>3</th>\n",
       "      <td>government</td>\n",
       "      <td>42.224409</td>\n",
       "    </tr>\n",
       "    <tr>\n",
       "      <th>4</th>\n",
       "      <td>travel</td>\n",
       "      <td>43.380855</td>\n",
       "    </tr>\n",
       "  </tbody>\n",
       "</table>\n",
       "</div>"
      ],
      "text/plain": [
       "        genre  test_accuracy\n",
       "0   telephone      42.686567\n",
       "1     fiction      44.422111\n",
       "2       slate      43.612774\n",
       "3  government      42.224409\n",
       "4      travel      43.380855"
      ]
     },
     "execution_count": 241,
     "metadata": {},
     "output_type": "execute_result"
    }
   ],
   "source": [
    "pd.DataFrame.from_dict(rnn_eval_results)"
   ]
  },
  {
   "cell_type": "markdown",
   "metadata": {},
   "source": [
    "# Model Finetuning"
   ]
  },
  {
   "cell_type": "code",
   "execution_count": null,
   "metadata": {},
   "outputs": [],
   "source": []
  }
 ],
 "metadata": {
  "kernelspec": {
   "display_name": "Python 3",
   "language": "python",
   "name": "python3"
  },
  "language_info": {
   "codemirror_mode": {
    "name": "ipython",
    "version": 3
   },
   "file_extension": ".py",
   "mimetype": "text/x-python",
   "name": "python",
   "nbconvert_exporter": "python",
   "pygments_lexer": "ipython3",
   "version": "3.6.6"
  }
 },
 "nbformat": 4,
 "nbformat_minor": 2
}
